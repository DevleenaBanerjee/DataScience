{
 "cells": [
  {
   "cell_type": "code",
   "execution_count": 3,
   "metadata": {},
   "outputs": [],
   "source": [
    "# Part 1 - Data Preprocessing\n",
    "\n",
    "# Importing the libraries\n",
    "import numpy as np\n",
    "import matplotlib.pyplot as plt\n",
    "import pandas as pd"
   ]
  },
  {
   "cell_type": "code",
   "execution_count": 4,
   "metadata": {},
   "outputs": [],
   "source": [
    "# Importing the dataset\n",
    "dataset = pd.read_csv('Churn_Modelling.csv')\n",
    "X = dataset.iloc[:, 3:13]\n",
    "y = dataset.iloc[:, 13]"
   ]
  },
  {
   "cell_type": "code",
   "execution_count": 5,
   "metadata": {},
   "outputs": [],
   "source": [
    "#Create dummy variables\n",
    "geography=pd.get_dummies(X[\"Geography\"],drop_first=True)\n",
    "gender=pd.get_dummies(X['Gender'],drop_first=True)\n"
   ]
  },
  {
   "cell_type": "code",
   "execution_count": 6,
   "metadata": {},
   "outputs": [],
   "source": [
    "## Concatenate the Data Frames\n",
    "\n",
    "X=pd.concat([X,geography,gender],axis=1)\n",
    "\n",
    "## Drop Unnecessary columns\n",
    "X=X.drop(['Geography','Gender'],axis=1)"
   ]
  },
  {
   "cell_type": "code",
   "execution_count": 7,
   "metadata": {},
   "outputs": [],
   "source": [
    "# Splitting the dataset into the Training set and Test set\n",
    "from sklearn.model_selection import train_test_split\n",
    "X_train, X_test, y_train, y_test = train_test_split(X, y, test_size = 0.2, random_state = 0)\n",
    "\n",
    "# Feature Scaling\n",
    "from sklearn.preprocessing import StandardScaler\n",
    "sc = StandardScaler()\n",
    "X_train = sc.fit_transform(X_train)\n",
    "X_test = sc.transform(X_test)"
   ]
  },
  {
   "cell_type": "code",
   "execution_count": 11,
   "metadata": {},
   "outputs": [],
   "source": [
    "#Perform Hyperparameter Optimization\n",
    "from keras.wrappers.scikit_learn import KerasClassifier\n",
    "from sklearn.model_selection import GridSearchCV\n",
    "\n",
    "from keras.models import Sequential\n",
    "from keras.layers import Dense,Activation,Embedding,Flatten,LeakyReLU,BatchNormalization\n",
    "from keras.activations import relu,sigmoid\n",
    "\n",
    "from keras.layers import Dropout"
   ]
  },
  {
   "cell_type": "code",
   "execution_count": 12,
   "metadata": {},
   "outputs": [],
   "source": [
    "def create_model(layers, activation):\n",
    "    model = Sequential()\n",
    "    for i, nodes in enumerate(layers):\n",
    "        if i==0:\n",
    "            model.add(Dense(nodes,input_dim=X_train.shape[1]))\n",
    "            model.add(Activation(activation))\n",
    "            model.add(Dropout(0.3))\n",
    "        else:\n",
    "            model.add(Dense(nodes))\n",
    "            model.add(Activation(activation))\n",
    "            model.add(Dropout(0.3))\n",
    "            \n",
    "    model.add(Dense(units = 1, kernel_initializer= 'glorot_uniform', activation = 'sigmoid')) # Note: no activation beyond this point\n",
    "    \n",
    "    model.compile(optimizer='adam', loss='binary_crossentropy',metrics=['accuracy'])\n",
    "    return model\n",
    "    \n"
   ]
  },
  {
   "cell_type": "code",
   "execution_count": 13,
   "metadata": {},
   "outputs": [
    {
     "name": "stdout",
     "output_type": "stream",
     "text": [
      "WARNING:tensorflow:From C:\\Users\\amhotta\\AppData\\Local\\Continuum\\anaconda3\\lib\\site-packages\\tensorflow\\python\\ops\\nn_impl.py:180: add_dispatch_support.<locals>.wrapper (from tensorflow.python.ops.array_ops) is deprecated and will be removed in a future version.\n",
      "Instructions for updating:\n",
      "Use tf.where in 2.0, which has the same broadcast rule as np.where\n",
      "WARNING:tensorflow:From C:\\Users\\amhotta\\AppData\\Local\\Continuum\\anaconda3\\lib\\site-packages\\keras\\backend\\tensorflow_backend.py:422: The name tf.global_variables is deprecated. Please use tf.compat.v1.global_variables instead.\n",
      "\n"
     ]
    },
    {
     "data": {
      "text/plain": [
       "[0.8560000061988831,\n",
       " {'activation': 'relu',\n",
       "  'batch_size': 128,\n",
       "  'epochs': 30,\n",
       "  'layers': [45, 30, 15]}]"
      ]
     },
     "execution_count": 13,
     "metadata": {},
     "output_type": "execute_result"
    }
   ],
   "source": [
    "model = KerasClassifier(build_fn=create_model, verbose=0)\n",
    "\n",
    "\n",
    "layers = [[20], [40, 20], [45, 30, 15]]\n",
    "activations = ['sigmoid', 'relu']\n",
    "param_grid = dict(layers=layers, activation=activations, batch_size = [128, 256], epochs=[30])\n",
    "grid = GridSearchCV(estimator=model, param_grid=param_grid,cv=5)\n",
    "\n",
    "\n",
    "grid_result = grid.fit(X_train, y_train)\n",
    "\n",
    "[grid_result.best_score_,grid_result.best_params_]\n"
   ]
  },
  {
   "cell_type": "code",
   "execution_count": null,
   "metadata": {},
   "outputs": [],
   "source": []
  },
  {
   "cell_type": "code",
   "execution_count": 15,
   "metadata": {},
   "outputs": [
    {
     "name": "stdout",
     "output_type": "stream",
     "text": [
      "0.8560000061988831 {'activation': 'relu', 'batch_size': 128, 'epochs': 30, 'layers': [45, 30, 15]}\n"
     ]
    }
   ],
   "source": [
    "print(grid_result.best_score_,grid_result.best_params_)"
   ]
  },
  {
   "cell_type": "code",
   "execution_count": 17,
   "metadata": {},
   "outputs": [
    {
     "data": {
      "text/plain": [
       "array([[0],\n",
       "       [0],\n",
       "       [0],\n",
       "       ...,\n",
       "       [0],\n",
       "       [0],\n",
       "       [0]], dtype=int64)"
      ]
     },
     "execution_count": 17,
     "metadata": {},
     "output_type": "execute_result"
    }
   ],
   "source": [
    "\n",
    "pred_y = grid.predict(X_test)\n",
    "pred_y"
   ]
  },
  {
   "cell_type": "code",
   "execution_count": 24,
   "metadata": {},
   "outputs": [],
   "source": [
    "\n",
    "y_pred = (pred_y > 0.5)\n"
   ]
  },
  {
   "cell_type": "code",
   "execution_count": 25,
   "metadata": {},
   "outputs": [
    {
     "data": {
      "text/plain": [
       "array([[1532,   63],\n",
       "       [ 213,  192]], dtype=int64)"
      ]
     },
     "execution_count": 25,
     "metadata": {},
     "output_type": "execute_result"
    }
   ],
   "source": [
    "from sklearn.metrics import confusion_matrix\n",
    "cm = confusion_matrix(y_test, y_pred)\n",
    "cm"
   ]
  },
  {
   "cell_type": "code",
   "execution_count": 21,
   "metadata": {},
   "outputs": [],
   "source": [
    "from sklearn.metrics import accuracy_score\n",
    "score=accuracy_score(y_test,y_pred)"
   ]
  },
  {
   "cell_type": "code",
   "execution_count": 22,
   "metadata": {},
   "outputs": [
    {
     "data": {
      "text/plain": [
       "0.862"
      ]
     },
     "execution_count": 22,
     "metadata": {},
     "output_type": "execute_result"
    }
   ],
   "source": [
    "score"
   ]
  },
  {
   "cell_type": "code",
   "execution_count": 6,
   "metadata": {},
   "outputs": [],
   "source": [
    "#ANN \n",
    "\n",
    "import keras\n",
    "from keras.models import Sequential\n",
    "from keras.layers import Dense\n",
    "from keras.layers import LeakyReLU,PReLU,ELU\n",
    "from keras.layers import Dropout\n"
   ]
  },
  {
   "cell_type": "code",
   "execution_count": 9,
   "metadata": {},
   "outputs": [],
   "source": [
    "#Initialise the ANN\n",
    "classifier = Sequential()"
   ]
  },
  {
   "cell_type": "code",
   "execution_count": 13,
   "metadata": {},
   "outputs": [],
   "source": [
    "#Add input and hidden layers\n",
    "classifier.add(Dense(units=6,kernel_initializer='he_uniform',activation='relu',input_dim=11))"
   ]
  },
  {
   "cell_type": "code",
   "execution_count": 14,
   "metadata": {},
   "outputs": [],
   "source": [
    "#Add 2nd hidden layer\n",
    "classifier.add(Dense(units=6,kernel_initializer='he_uniform',activation='relu'))"
   ]
  },
  {
   "cell_type": "code",
   "execution_count": 16,
   "metadata": {},
   "outputs": [],
   "source": [
    "#Add output layer\n",
    "\n",
    "classifier.add(Dense(units=1,kernel_initializer='glorot_uniform',activation='sigmoid'))"
   ]
  },
  {
   "cell_type": "code",
   "execution_count": 29,
   "metadata": {},
   "outputs": [
    {
     "name": "stdout",
     "output_type": "stream",
     "text": [
      "WARNING:tensorflow:From C:\\Users\\amhotta\\AppData\\Local\\Continuum\\anaconda3\\lib\\site-packages\\tensorflow\\python\\ops\\nn_impl.py:180: add_dispatch_support.<locals>.wrapper (from tensorflow.python.ops.array_ops) is deprecated and will be removed in a future version.\n",
      "Instructions for updating:\n",
      "Use tf.where in 2.0, which has the same broadcast rule as np.where\n"
     ]
    }
   ],
   "source": [
    "classifier.compile(optimizer='adam',loss='binary_crossentropy',metrics=['accuracy'])"
   ]
  },
  {
   "cell_type": "code",
   "execution_count": 30,
   "metadata": {},
   "outputs": [
    {
     "name": "stderr",
     "output_type": "stream",
     "text": [
      "C:\\Users\\amhotta\\AppData\\Local\\Continuum\\anaconda3\\lib\\site-packages\\ipykernel_launcher.py:2: UserWarning: The `nb_epoch` argument in `fit` has been renamed `epochs`.\n",
      "  \n"
     ]
    },
    {
     "name": "stdout",
     "output_type": "stream",
     "text": [
      "WARNING:tensorflow:From C:\\Users\\amhotta\\AppData\\Local\\Continuum\\anaconda3\\lib\\site-packages\\keras\\backend\\tensorflow_backend.py:422: The name tf.global_variables is deprecated. Please use tf.compat.v1.global_variables instead.\n",
      "\n",
      "Epoch 1/100\n",
      "8000/8000 [==============================] - 1s 157us/step - loss: 0.5472 - accuracy: 0.7889\n",
      "Epoch 2/100\n",
      "8000/8000 [==============================] - 1s 93us/step - loss: 0.4879 - accuracy: 0.7976\n",
      "Epoch 3/100\n",
      "8000/8000 [==============================] - 1s 88us/step - loss: 0.4626 - accuracy: 0.7994\n",
      "Epoch 4/100\n",
      "8000/8000 [==============================] - 1s 91us/step - loss: 0.4451 - accuracy: 0.8026\n",
      "Epoch 5/100\n",
      "8000/8000 [==============================] - 1s 89us/step - loss: 0.4317 - accuracy: 0.8090\n",
      "Epoch 6/100\n",
      "8000/8000 [==============================] - 1s 91us/step - loss: 0.4201 - accuracy: 0.8169\n",
      "Epoch 7/100\n",
      "8000/8000 [==============================] - 1s 95us/step - loss: 0.4088 - accuracy: 0.8259\n",
      "Epoch 8/100\n",
      "8000/8000 [==============================] - 1s 99us/step - loss: 0.3998 - accuracy: 0.8339\n",
      "Epoch 9/100\n",
      "8000/8000 [==============================] - 1s 98us/step - loss: 0.3912 - accuracy: 0.8381\n",
      "Epoch 10/100\n",
      "8000/8000 [==============================] - 1s 93us/step - loss: 0.3838 - accuracy: 0.8416\n",
      "Epoch 11/100\n",
      "8000/8000 [==============================] - 1s 91us/step - loss: 0.3765 - accuracy: 0.8432\n",
      "Epoch 12/100\n",
      "8000/8000 [==============================] - 1s 94us/step - loss: 0.3707 - accuracy: 0.8456\n",
      "Epoch 13/100\n",
      "8000/8000 [==============================] - 1s 99us/step - loss: 0.3655 - accuracy: 0.8470\n",
      "Epoch 14/100\n",
      "8000/8000 [==============================] - 1s 95us/step - loss: 0.3609 - accuracy: 0.8484\n",
      "Epoch 15/100\n",
      "8000/8000 [==============================] - 1s 99us/step - loss: 0.3573 - accuracy: 0.8500\n",
      "Epoch 16/100\n",
      "8000/8000 [==============================] - 1s 100us/step - loss: 0.3538 - accuracy: 0.8514\n",
      "Epoch 17/100\n",
      "8000/8000 [==============================] - 1s 95us/step - loss: 0.3520 - accuracy: 0.8541\n",
      "Epoch 18/100\n",
      "8000/8000 [==============================] - 1s 96us/step - loss: 0.3505 - accuracy: 0.8543\n",
      "Epoch 19/100\n",
      "8000/8000 [==============================] - 1s 99us/step - loss: 0.3484 - accuracy: 0.8555\n",
      "Epoch 20/100\n",
      "8000/8000 [==============================] - 1s 100us/step - loss: 0.3468 - accuracy: 0.8568\n",
      "Epoch 21/100\n",
      "8000/8000 [==============================] - 1s 94us/step - loss: 0.3457 - accuracy: 0.8571\n",
      "Epoch 22/100\n",
      "8000/8000 [==============================] - 1s 94us/step - loss: 0.3456 - accuracy: 0.8568\n",
      "Epoch 23/100\n",
      "8000/8000 [==============================] - 1s 95us/step - loss: 0.3444 - accuracy: 0.8570\n",
      "Epoch 24/100\n",
      "8000/8000 [==============================] - 1s 96us/step - loss: 0.3428 - accuracy: 0.8594\n",
      "Epoch 25/100\n",
      "8000/8000 [==============================] - 1s 95us/step - loss: 0.3426 - accuracy: 0.8590\n",
      "Epoch 26/100\n",
      "8000/8000 [==============================] - 1s 93us/step - loss: 0.3416 - accuracy: 0.8604\n",
      "Epoch 27/100\n",
      "8000/8000 [==============================] - 1s 98us/step - loss: 0.3405 - accuracy: 0.8597\n",
      "Epoch 28/100\n",
      "8000/8000 [==============================] - 1s 101us/step - loss: 0.3402 - accuracy: 0.8595\n",
      "Epoch 29/100\n",
      "8000/8000 [==============================] - 1s 98us/step - loss: 0.3396 - accuracy: 0.8585\n",
      "Epoch 30/100\n",
      "8000/8000 [==============================] - 1s 98us/step - loss: 0.3391 - accuracy: 0.8606\n",
      "Epoch 31/100\n",
      "8000/8000 [==============================] - 1s 106us/step - loss: 0.3383 - accuracy: 0.8610\n",
      "Epoch 32/100\n",
      "8000/8000 [==============================] - 1s 97us/step - loss: 0.3377 - accuracy: 0.8615\n",
      "Epoch 33/100\n",
      "8000/8000 [==============================] - 1s 92us/step - loss: 0.3376 - accuracy: 0.8621\n",
      "Epoch 34/100\n",
      "8000/8000 [==============================] - 1s 92us/step - loss: 0.3371 - accuracy: 0.8630\n",
      "Epoch 35/100\n",
      "8000/8000 [==============================] - 1s 91us/step - loss: 0.3372 - accuracy: 0.8634 0s - loss: 0\n",
      "Epoch 36/100\n",
      "8000/8000 [==============================] - 1s 98us/step - loss: 0.3361 - accuracy: 0.8633\n",
      "Epoch 37/100\n",
      "8000/8000 [==============================] - 1s 97us/step - loss: 0.3354 - accuracy: 0.8616\n",
      "Epoch 38/100\n",
      "8000/8000 [==============================] - 1s 95us/step - loss: 0.3357 - accuracy: 0.8661\n",
      "Epoch 39/100\n",
      "8000/8000 [==============================] - 1s 96us/step - loss: 0.3354 - accuracy: 0.8635\n",
      "Epoch 40/100\n",
      "8000/8000 [==============================] - 1s 96us/step - loss: 0.3345 - accuracy: 0.8655\n",
      "Epoch 41/100\n",
      "8000/8000 [==============================] - 1s 97us/step - loss: 0.3352 - accuracy: 0.8633\n",
      "Epoch 42/100\n",
      "8000/8000 [==============================] - 1s 92us/step - loss: 0.3345 - accuracy: 0.8661\n",
      "Epoch 43/100\n",
      "8000/8000 [==============================] - 1s 93us/step - loss: 0.3346 - accuracy: 0.8639\n",
      "Epoch 44/100\n",
      "8000/8000 [==============================] - 1s 98us/step - loss: 0.3345 - accuracy: 0.8626\n",
      "Epoch 45/100\n",
      "8000/8000 [==============================] - 1s 97us/step - loss: 0.3341 - accuracy: 0.8648\n",
      "Epoch 46/100\n",
      "8000/8000 [==============================] - 1s 95us/step - loss: 0.3337 - accuracy: 0.8633\n",
      "Epoch 47/100\n",
      "8000/8000 [==============================] - 1s 96us/step - loss: 0.3336 - accuracy: 0.8645\n",
      "Epoch 48/100\n",
      "8000/8000 [==============================] - 1s 98us/step - loss: 0.3340 - accuracy: 0.8635\n",
      "Epoch 49/100\n",
      "8000/8000 [==============================] - 1s 97us/step - loss: 0.3340 - accuracy: 0.8629\n",
      "Epoch 50/100\n",
      "8000/8000 [==============================] - 1s 96us/step - loss: 0.3333 - accuracy: 0.8648\n",
      "Epoch 51/100\n",
      "8000/8000 [==============================] - 1s 98us/step - loss: 0.3336 - accuracy: 0.8641\n",
      "Epoch 52/100\n",
      "8000/8000 [==============================] - 1s 97us/step - loss: 0.3327 - accuracy: 0.8626\n",
      "Epoch 53/100\n",
      "8000/8000 [==============================] - 1s 99us/step - loss: 0.3334 - accuracy: 0.8633\n",
      "Epoch 54/100\n",
      "8000/8000 [==============================] - 1s 100us/step - loss: 0.3334 - accuracy: 0.8629\n",
      "Epoch 55/100\n",
      "8000/8000 [==============================] - 1s 98us/step - loss: 0.3331 - accuracy: 0.8646\n",
      "Epoch 56/100\n",
      "8000/8000 [==============================] - 1s 92us/step - loss: 0.3330 - accuracy: 0.8655\n",
      "Epoch 57/100\n",
      "8000/8000 [==============================] - 1s 98us/step - loss: 0.3326 - accuracy: 0.8648\n",
      "Epoch 58/100\n",
      "8000/8000 [==============================] - 1s 93us/step - loss: 0.3325 - accuracy: 0.8616\n",
      "Epoch 59/100\n",
      "8000/8000 [==============================] - 1s 97us/step - loss: 0.3332 - accuracy: 0.8631\n",
      "Epoch 60/100\n",
      "8000/8000 [==============================] - 1s 86us/step - loss: 0.3320 - accuracy: 0.8629\n",
      "Epoch 61/100\n",
      "8000/8000 [==============================] - 1s 85us/step - loss: 0.3324 - accuracy: 0.8652\n",
      "Epoch 62/100\n",
      "8000/8000 [==============================] - 1s 88us/step - loss: 0.3327 - accuracy: 0.8641\n",
      "Epoch 63/100\n",
      "8000/8000 [==============================] - 1s 83us/step - loss: 0.3322 - accuracy: 0.8656\n",
      "Epoch 64/100\n",
      "8000/8000 [==============================] - 1s 89us/step - loss: 0.3328 - accuracy: 0.8648\n",
      "Epoch 65/100\n",
      "8000/8000 [==============================] - 1s 91us/step - loss: 0.3329 - accuracy: 0.8634\n",
      "Epoch 66/100\n",
      "8000/8000 [==============================] - 1s 87us/step - loss: 0.3324 - accuracy: 0.8648\n",
      "Epoch 67/100\n",
      "8000/8000 [==============================] - 1s 90us/step - loss: 0.3321 - accuracy: 0.8636\n",
      "Epoch 68/100\n",
      "8000/8000 [==============================] - 1s 87us/step - loss: 0.3323 - accuracy: 0.8635\n",
      "Epoch 69/100\n",
      "8000/8000 [==============================] - 1s 91us/step - loss: 0.3320 - accuracy: 0.8656\n",
      "Epoch 70/100\n",
      "8000/8000 [==============================] - 1s 81us/step - loss: 0.3322 - accuracy: 0.8650\n",
      "Epoch 71/100\n",
      "8000/8000 [==============================] - 1s 83us/step - loss: 0.3318 - accuracy: 0.8655\n",
      "Epoch 72/100\n",
      "8000/8000 [==============================] - 1s 81us/step - loss: 0.3321 - accuracy: 0.8660\n",
      "Epoch 73/100\n",
      "8000/8000 [==============================] - 1s 83us/step - loss: 0.3318 - accuracy: 0.8652\n",
      "Epoch 74/100\n",
      "8000/8000 [==============================] - 1s 86us/step - loss: 0.3317 - accuracy: 0.8640\n",
      "Epoch 75/100\n",
      "8000/8000 [==============================] - 1s 88us/step - loss: 0.3321 - accuracy: 0.8641\n",
      "Epoch 76/100\n",
      "8000/8000 [==============================] - 1s 89us/step - loss: 0.3317 - accuracy: 0.8643\n",
      "Epoch 77/100\n",
      "8000/8000 [==============================] - 1s 94us/step - loss: 0.3318 - accuracy: 0.8660\n",
      "Epoch 78/100\n",
      "8000/8000 [==============================] - 1s 101us/step - loss: 0.3316 - accuracy: 0.8646\n",
      "Epoch 79/100\n",
      "8000/8000 [==============================] - 1s 99us/step - loss: 0.3316 - accuracy: 0.8636\n",
      "Epoch 80/100\n",
      "8000/8000 [==============================] - 1s 103us/step - loss: 0.3312 - accuracy: 0.8658\n",
      "Epoch 81/100\n",
      "8000/8000 [==============================] - 1s 94us/step - loss: 0.3317 - accuracy: 0.8644\n",
      "Epoch 82/100\n",
      "8000/8000 [==============================] - 1s 89us/step - loss: 0.3315 - accuracy: 0.8654\n",
      "Epoch 83/100\n",
      "8000/8000 [==============================] - 1s 94us/step - loss: 0.3316 - accuracy: 0.8652\n",
      "Epoch 84/100\n",
      "8000/8000 [==============================] - 1s 98us/step - loss: 0.3317 - accuracy: 0.8649 0s - loss: 0.3350 - ac\n",
      "Epoch 85/100\n",
      "8000/8000 [==============================] - 1s 94us/step - loss: 0.3316 - accuracy: 0.8650\n",
      "Epoch 86/100\n",
      "8000/8000 [==============================] - 1s 97us/step - loss: 0.3314 - accuracy: 0.8649\n",
      "Epoch 87/100\n",
      "8000/8000 [==============================] - 1s 96us/step - loss: 0.3316 - accuracy: 0.8643\n",
      "Epoch 88/100\n",
      "8000/8000 [==============================] - 1s 98us/step - loss: 0.3309 - accuracy: 0.8649\n",
      "Epoch 89/100\n",
      "8000/8000 [==============================] - 1s 94us/step - loss: 0.3318 - accuracy: 0.8640\n",
      "Epoch 90/100\n",
      "8000/8000 [==============================] - 1s 88us/step - loss: 0.3312 - accuracy: 0.8651\n",
      "Epoch 91/100\n",
      "8000/8000 [==============================] - 1s 94us/step - loss: 0.3312 - accuracy: 0.8654\n",
      "Epoch 92/100\n",
      "8000/8000 [==============================] - 1s 94us/step - loss: 0.3308 - accuracy: 0.8662\n",
      "Epoch 93/100\n",
      "8000/8000 [==============================] - 1s 92us/step - loss: 0.3310 - accuracy: 0.8658\n",
      "Epoch 94/100\n",
      "8000/8000 [==============================] - 1s 94us/step - loss: 0.3310 - accuracy: 0.8660\n",
      "Epoch 95/100\n",
      "8000/8000 [==============================] - 1s 103us/step - loss: 0.3310 - accuracy: 0.8651\n",
      "Epoch 96/100\n",
      "8000/8000 [==============================] - 1s 96us/step - loss: 0.3308 - accuracy: 0.8659\n",
      "Epoch 97/100\n",
      "8000/8000 [==============================] - 1s 97us/step - loss: 0.3307 - accuracy: 0.8668\n",
      "Epoch 98/100\n",
      "8000/8000 [==============================] - 1s 96us/step - loss: 0.3311 - accuracy: 0.8655\n",
      "Epoch 99/100\n",
      "8000/8000 [==============================] - 1s 98us/step - loss: 0.3306 - accuracy: 0.8660\n",
      "Epoch 100/100\n",
      "8000/8000 [==============================] - 1s 93us/step - loss: 0.3306 - accuracy: 0.8637\n"
     ]
    }
   ],
   "source": [
    "# Fitting the ANN to the Training set\n",
    "model_history=classifier.fit(X_train, y_train, nb_epoch = 100)"
   ]
  },
  {
   "cell_type": "code",
   "execution_count": 36,
   "metadata": {},
   "outputs": [
    {
     "name": "stdout",
     "output_type": "stream",
     "text": [
      "dict_keys(['loss', 'accuracy'])\n"
     ]
    },
    {
     "data": {
      "image/png": "[encoded data removed]",
      "text/plain": [
       "<Figure size 432x288 with 1 Axes>"
      ]
     },
     "metadata": {
      "needs_background": "light"
     },
     "output_type": "display_data"
    }
   ],
   "source": [
    "\n",
    "# list all data in history\n",
    "\n",
    "print(model_history.history.keys())\n",
    "# summarize history for accuracy\n",
    "plt.plot(model_history.history['accuracy'])\n",
    "#plt.plot(model_history.history['val'])\n",
    "plt.title('model accuracy')\n",
    "plt.ylabel('accuracy')\n",
    "plt.xlabel('epoch')\n",
    "plt.legend(['train', 'test'], loc='upper left')\n",
    "plt.show()\n",
    "\n"
   ]
  },
  {
   "cell_type": "code",
   "execution_count": 38,
   "metadata": {},
   "outputs": [
    {
     "data": {
      "image/png": "[encoded data removed]",
      "text/plain": [
       "<Figure size 432x288 with 1 Axes>"
      ]
     },
     "metadata": {
      "needs_background": "light"
     },
     "output_type": "display_data"
    }
   ],
   "source": [
    "# summarize history for loss\n",
    "plt.plot(model_history.history['loss'])\n",
    "#plt.plot(model_history.history['val_loss'])\n",
    "plt.title('model loss')\n",
    "plt.ylabel('loss')\n",
    "plt.xlabel('epoch')\n",
    "plt.legend(['train', 'test'], loc='upper left')\n",
    "plt.show()\n",
    "\n",
    "\n"
   ]
  },
  {
   "cell_type": "code",
   "execution_count": 39,
   "metadata": {},
   "outputs": [],
   "source": [
    "# Part 3 - Making the predictions and evaluating the model\n",
    "\n",
    "# Predicting the Test set results\n",
    "y_pred = classifier.predict(X_test)\n",
    "y_pred = (y_pred > 0.5)\n",
    "\n",
    "# Making the Confusion Matrix\n",
    "from sklearn.metrics import confusion_matrix\n",
    "cm = confusion_matrix(y_test, y_pred)\n",
    "\n",
    "# Calculate the Accuracy\n",
    "from sklearn.metrics import accuracy_score\n",
    "score=accuracy_score(y_pred,y_test)"
   ]
  },
  {
   "cell_type": "code",
   "execution_count": 40,
   "metadata": {},
   "outputs": [
    {
     "data": {
      "text/plain": [
       "0.86"
      ]
     },
     "execution_count": 40,
     "metadata": {},
     "output_type": "execute_result"
    }
   ],
   "source": [
    "score"
   ]
  },
  {
   "cell_type": "code",
   "execution_count": null,
   "metadata": {},
   "outputs": [],
   "source": []
  }
 ],
 "metadata": {
  "kernelspec": {
   "display_name": "Python 3",
   "language": "python",
   "name": "python3"
  },
  "language_info": {
   "codemirror_mode": {
    "name": "ipython",
    "version": 3
   },
   "file_extension": ".py",
   "mimetype": "text/x-python",
   "name": "python",
   "nbconvert_exporter": "python",
   "pygments_lexer": "ipython3",
   "version": "3.7.4"
  }
 },
 "nbformat": 4,
 "nbformat_minor": 2
}
