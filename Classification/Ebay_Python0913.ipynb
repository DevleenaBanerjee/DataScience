{
 "cells": [
  {
   "cell_type": "code",
   "execution_count": 2,
   "metadata": {},
   "outputs": [],
   "source": [
    "import pandas as pd\n",
    "import numpy as np\n",
    "import matplotlib.pyplot as plt\n",
    "import seaborn as sns\n",
    "%matplotlib inline"
   ]
  },
  {
   "cell_type": "code",
   "execution_count": 47,
   "metadata": {},
   "outputs": [],
   "source": [
    "ebay_data = pd.read_csv('ebay.csv')"
   ]
  },
  {
   "cell_type": "code",
   "execution_count": 48,
   "metadata": {},
   "outputs": [
    {
     "name": "stdout",
     "output_type": "stream",
     "text": [
      "<class 'pandas.core.frame.DataFrame'>\n",
      "RangeIndex: 3796 entries, 0 to 3795\n",
      "Data columns (total 12 columns):\n",
      " #   Column       Non-Null Count  Dtype  \n",
      "---  ------       --------------  -----  \n",
      " 0   biddable     3796 non-null   int64  \n",
      " 1   sold         3796 non-null   int64  \n",
      " 2   startprice   3796 non-null   float64\n",
      " 3   saleprice    799 non-null    float64\n",
      " 4   condition    3796 non-null   object \n",
      " 5   size         3728 non-null   float64\n",
      " 6   heel         2835 non-null   object \n",
      " 7   style        3796 non-null   object \n",
      " 8   color        3796 non-null   object \n",
      " 9   material     3796 non-null   object \n",
      " 10  snippit      761 non-null    object \n",
      " 11  description  3711 non-null   object \n",
      "dtypes: float64(3), int64(2), object(7)\n",
      "memory usage: 252.1+ KB\n"
     ]
    }
   ],
   "source": [
    "ebay_data.info()"
   ]
  },
  {
   "cell_type": "code",
   "execution_count": 49,
   "metadata": {},
   "outputs": [
    {
     "data": {
      "text/html": [
       "<div>\n",
       "<style scoped>\n",
       "    .dataframe tbody tr th:only-of-type {\n",
       "        vertical-align: middle;\n",
       "    }\n",
       "\n",
       "    .dataframe tbody tr th {\n",
       "        vertical-align: top;\n",
       "    }\n",
       "\n",
       "    .dataframe thead th {\n",
       "        text-align: right;\n",
       "    }\n",
       "</style>\n",
       "<table border=\"1\" class=\"dataframe\">\n",
       "  <thead>\n",
       "    <tr style=\"text-align: right;\">\n",
       "      <th></th>\n",
       "      <th>biddable</th>\n",
       "      <th>sold</th>\n",
       "      <th>startprice</th>\n",
       "      <th>saleprice</th>\n",
       "      <th>condition</th>\n",
       "      <th>size</th>\n",
       "      <th>heel</th>\n",
       "      <th>style</th>\n",
       "      <th>color</th>\n",
       "      <th>material</th>\n",
       "      <th>snippit</th>\n",
       "      <th>description</th>\n",
       "    </tr>\n",
       "  </thead>\n",
       "  <tbody>\n",
       "    <tr>\n",
       "      <th>0</th>\n",
       "      <td>1</td>\n",
       "      <td>0</td>\n",
       "      <td>199.00</td>\n",
       "      <td>NaN</td>\n",
       "      <td>Pre-owned</td>\n",
       "      <td>9.5</td>\n",
       "      <td>Low</td>\n",
       "      <td>Open Toe</td>\n",
       "      <td>Black</td>\n",
       "      <td>Suede</td>\n",
       "      <td>Had soles re- covered.</td>\n",
       "      <td>Very good condition. Heel height very manageab...</td>\n",
       "    </tr>\n",
       "    <tr>\n",
       "      <th>1</th>\n",
       "      <td>0</td>\n",
       "      <td>0</td>\n",
       "      <td>375.00</td>\n",
       "      <td>NaN</td>\n",
       "      <td>New with box</td>\n",
       "      <td>7.5</td>\n",
       "      <td>High</td>\n",
       "      <td>Slingback</td>\n",
       "      <td>Other/Missing</td>\n",
       "      <td>Satin</td>\n",
       "      <td>NaN</td>\n",
       "      <td>From my own personal collection, great conditi...</td>\n",
       "    </tr>\n",
       "    <tr>\n",
       "      <th>2</th>\n",
       "      <td>1</td>\n",
       "      <td>1</td>\n",
       "      <td>299.99</td>\n",
       "      <td>780.0</td>\n",
       "      <td>Pre-owned</td>\n",
       "      <td>8.5</td>\n",
       "      <td>High</td>\n",
       "      <td>Pump</td>\n",
       "      <td>Black</td>\n",
       "      <td>Other/Missing</td>\n",
       "      <td>NaN</td>\n",
       "      <td>With its staggering half-foot-high heel and ch...</td>\n",
       "    </tr>\n",
       "    <tr>\n",
       "      <th>3</th>\n",
       "      <td>1</td>\n",
       "      <td>1</td>\n",
       "      <td>49.99</td>\n",
       "      <td>561.0</td>\n",
       "      <td>Pre-owned</td>\n",
       "      <td>8.5</td>\n",
       "      <td>High</td>\n",
       "      <td>Pump</td>\n",
       "      <td>Black</td>\n",
       "      <td>Snakeskin</td>\n",
       "      <td>NaN</td>\n",
       "      <td>Comes w/ box, dustbag, and extra heel in its o...</td>\n",
       "    </tr>\n",
       "    <tr>\n",
       "      <th>4</th>\n",
       "      <td>0</td>\n",
       "      <td>0</td>\n",
       "      <td>89.00</td>\n",
       "      <td>NaN</td>\n",
       "      <td>Pre-owned</td>\n",
       "      <td>5.5</td>\n",
       "      <td>Flat</td>\n",
       "      <td>Other/Missing</td>\n",
       "      <td>Other/Missing</td>\n",
       "      <td>Leather</td>\n",
       "      <td>NaN</td>\n",
       "      <td>Please ask questions before bidding. \\n \\nThis...</td>\n",
       "    </tr>\n",
       "  </tbody>\n",
       "</table>\n",
       "</div>"
      ],
      "text/plain": [
       "   biddable  sold  startprice  saleprice     condition  size  heel  \\\n",
       "0         1     0      199.00        NaN     Pre-owned   9.5   Low   \n",
       "1         0     0      375.00        NaN  New with box   7.5  High   \n",
       "2         1     1      299.99      780.0     Pre-owned   8.5  High   \n",
       "3         1     1       49.99      561.0     Pre-owned   8.5  High   \n",
       "4         0     0       89.00        NaN     Pre-owned   5.5  Flat   \n",
       "\n",
       "           style          color       material                 snippit  \\\n",
       "0       Open Toe          Black          Suede  Had soles re- covered.   \n",
       "1      Slingback  Other/Missing          Satin                     NaN   \n",
       "2           Pump          Black  Other/Missing                     NaN   \n",
       "3           Pump          Black      Snakeskin                     NaN   \n",
       "4  Other/Missing  Other/Missing        Leather                     NaN   \n",
       "\n",
       "                                         description  \n",
       "0  Very good condition. Heel height very manageab...  \n",
       "1  From my own personal collection, great conditi...  \n",
       "2  With its staggering half-foot-high heel and ch...  \n",
       "3  Comes w/ box, dustbag, and extra heel in its o...  \n",
       "4  Please ask questions before bidding. \\n \\nThis...  "
      ]
     },
     "execution_count": 49,
     "metadata": {},
     "output_type": "execute_result"
    }
   ],
   "source": [
    "ebay_data.head()"
   ]
  },
  {
   "cell_type": "code",
   "execution_count": 15,
   "metadata": {},
   "outputs": [
    {
     "data": {
      "text/plain": [
       "<AxesSubplot:xlabel='condition', ylabel='count'>"
      ]
     },
     "execution_count": 15,
     "metadata": {},
     "output_type": "execute_result"
    },
    {
     "data": {
      "image/png": "[encoded data removed]",
      "text/plain": [
       "<Figure size 792x504 with 1 Axes>"
      ]
     },
     "metadata": {
      "needs_background": "light"
     },
     "output_type": "display_data"
    }
   ],
   "source": [
    "plt.figure(figsize=(11,7))\n",
    "sns.countplot(x='condition',hue='biddable',data=ebay_data)"
   ]
  },
  {
   "cell_type": "code",
   "execution_count": 16,
   "metadata": {},
   "outputs": [
    {
     "data": {
      "text/plain": [
       "<AxesSubplot:xlabel='condition', ylabel='count'>"
      ]
     },
     "execution_count": 16,
     "metadata": {},
     "output_type": "execute_result"
    },
    {
     "data": {
      "image/png": "[encoded data removed]",
      "text/plain": [
       "<Figure size 432x288 with 1 Axes>"
      ]
     },
     "metadata": {
      "needs_background": "light"
     },
     "output_type": "display_data"
    }
   ],
   "source": [
    "sns.countplot(x='condition',hue='sold',data=ebay_data)"
   ]
  },
  {
   "cell_type": "code",
   "execution_count": 50,
   "metadata": {},
   "outputs": [
    {
     "name": "stdout",
     "output_type": "stream",
     "text": [
      "biddable          0\n",
      "sold              0\n",
      "startprice        0\n",
      "saleprice      2997\n",
      "condition         0\n",
      "size             68\n",
      "heel            961\n",
      "style             0\n",
      "color             0\n",
      "material          0\n",
      "snippit        3035\n",
      "description      85\n",
      "dtype: int64\n"
     ]
    }
   ],
   "source": [
    "## check missing value \n",
    "print(ebay_data.isnull().sum())"
   ]
  },
  {
   "cell_type": "code",
   "execution_count": 19,
   "metadata": {},
   "outputs": [],
   "source": [
    "corrMatrix = ebay_data.corr(method ='pearson') \n"
   ]
  },
  {
   "cell_type": "code",
   "execution_count": 21,
   "metadata": {},
   "outputs": [
    {
     "data": {
      "image/png": "[encoded data removed]",
      "text/plain": [
       "<Figure size 432x288 with 2 Axes>"
      ]
     },
     "metadata": {
      "needs_background": "light"
     },
     "output_type": "display_data"
    }
   ],
   "source": [
    "sns.heatmap(corrMatrix, annot=True)\n",
    "plt.show()"
   ]
  },
  {
   "cell_type": "code",
   "execution_count": 51,
   "metadata": {},
   "outputs": [],
   "source": [
    "#removing cols as there are extreme null values\n",
    "\n",
    "ebay_data.drop('saleprice', axis=1, inplace=True)\n"
   ]
  },
  {
   "cell_type": "code",
   "execution_count": 52,
   "metadata": {},
   "outputs": [],
   "source": [
    "ebay_data.drop('snippit', axis=1, inplace=True)\n"
   ]
  },
  {
   "cell_type": "code",
   "execution_count": 53,
   "metadata": {},
   "outputs": [
    {
     "data": {
      "text/html": [
       "<div>\n",
       "<style scoped>\n",
       "    .dataframe tbody tr th:only-of-type {\n",
       "        vertical-align: middle;\n",
       "    }\n",
       "\n",
       "    .dataframe tbody tr th {\n",
       "        vertical-align: top;\n",
       "    }\n",
       "\n",
       "    .dataframe thead th {\n",
       "        text-align: right;\n",
       "    }\n",
       "</style>\n",
       "<table border=\"1\" class=\"dataframe\">\n",
       "  <thead>\n",
       "    <tr style=\"text-align: right;\">\n",
       "      <th></th>\n",
       "      <th>biddable</th>\n",
       "      <th>sold</th>\n",
       "      <th>startprice</th>\n",
       "      <th>condition</th>\n",
       "      <th>size</th>\n",
       "      <th>heel</th>\n",
       "      <th>style</th>\n",
       "      <th>color</th>\n",
       "      <th>material</th>\n",
       "      <th>description</th>\n",
       "    </tr>\n",
       "  </thead>\n",
       "  <tbody>\n",
       "    <tr>\n",
       "      <th>0</th>\n",
       "      <td>1</td>\n",
       "      <td>0</td>\n",
       "      <td>199.00</td>\n",
       "      <td>Pre-owned</td>\n",
       "      <td>9.5</td>\n",
       "      <td>Low</td>\n",
       "      <td>Open Toe</td>\n",
       "      <td>Black</td>\n",
       "      <td>Suede</td>\n",
       "      <td>Very good condition. Heel height very manageab...</td>\n",
       "    </tr>\n",
       "    <tr>\n",
       "      <th>1</th>\n",
       "      <td>0</td>\n",
       "      <td>0</td>\n",
       "      <td>375.00</td>\n",
       "      <td>New with box</td>\n",
       "      <td>7.5</td>\n",
       "      <td>High</td>\n",
       "      <td>Slingback</td>\n",
       "      <td>Other/Missing</td>\n",
       "      <td>Satin</td>\n",
       "      <td>From my own personal collection, great conditi...</td>\n",
       "    </tr>\n",
       "    <tr>\n",
       "      <th>2</th>\n",
       "      <td>1</td>\n",
       "      <td>1</td>\n",
       "      <td>299.99</td>\n",
       "      <td>Pre-owned</td>\n",
       "      <td>8.5</td>\n",
       "      <td>High</td>\n",
       "      <td>Pump</td>\n",
       "      <td>Black</td>\n",
       "      <td>Other/Missing</td>\n",
       "      <td>With its staggering half-foot-high heel and ch...</td>\n",
       "    </tr>\n",
       "    <tr>\n",
       "      <th>3</th>\n",
       "      <td>1</td>\n",
       "      <td>1</td>\n",
       "      <td>49.99</td>\n",
       "      <td>Pre-owned</td>\n",
       "      <td>8.5</td>\n",
       "      <td>High</td>\n",
       "      <td>Pump</td>\n",
       "      <td>Black</td>\n",
       "      <td>Snakeskin</td>\n",
       "      <td>Comes w/ box, dustbag, and extra heel in its o...</td>\n",
       "    </tr>\n",
       "    <tr>\n",
       "      <th>4</th>\n",
       "      <td>0</td>\n",
       "      <td>0</td>\n",
       "      <td>89.00</td>\n",
       "      <td>Pre-owned</td>\n",
       "      <td>5.5</td>\n",
       "      <td>Flat</td>\n",
       "      <td>Other/Missing</td>\n",
       "      <td>Other/Missing</td>\n",
       "      <td>Leather</td>\n",
       "      <td>Please ask questions before bidding. \\n \\nThis...</td>\n",
       "    </tr>\n",
       "  </tbody>\n",
       "</table>\n",
       "</div>"
      ],
      "text/plain": [
       "   biddable  sold  startprice     condition  size  heel          style  \\\n",
       "0         1     0      199.00     Pre-owned   9.5   Low       Open Toe   \n",
       "1         0     0      375.00  New with box   7.5  High      Slingback   \n",
       "2         1     1      299.99     Pre-owned   8.5  High           Pump   \n",
       "3         1     1       49.99     Pre-owned   8.5  High           Pump   \n",
       "4         0     0       89.00     Pre-owned   5.5  Flat  Other/Missing   \n",
       "\n",
       "           color       material  \\\n",
       "0          Black          Suede   \n",
       "1  Other/Missing          Satin   \n",
       "2          Black  Other/Missing   \n",
       "3          Black      Snakeskin   \n",
       "4  Other/Missing        Leather   \n",
       "\n",
       "                                         description  \n",
       "0  Very good condition. Heel height very manageab...  \n",
       "1  From my own personal collection, great conditi...  \n",
       "2  With its staggering half-foot-high heel and ch...  \n",
       "3  Comes w/ box, dustbag, and extra heel in its o...  \n",
       "4  Please ask questions before bidding. \\n \\nThis...  "
      ]
     },
     "execution_count": 53,
     "metadata": {},
     "output_type": "execute_result"
    }
   ],
   "source": [
    "ebay_data.head()"
   ]
  },
  {
   "cell_type": "code",
   "execution_count": 54,
   "metadata": {},
   "outputs": [
    {
     "data": {
      "text/plain": [
       "biddable         int64\n",
       "sold             int64\n",
       "startprice     float64\n",
       "condition       object\n",
       "size           float64\n",
       "heel            object\n",
       "style           object\n",
       "color           object\n",
       "material        object\n",
       "description     object\n",
       "dtype: object"
      ]
     },
     "execution_count": 54,
     "metadata": {},
     "output_type": "execute_result"
    }
   ],
   "source": [
    "ebay_data.dtypes"
   ]
  },
  {
   "cell_type": "code",
   "execution_count": 55,
   "metadata": {},
   "outputs": [
    {
     "data": {
      "text/html": [
       "<div>\n",
       "<style scoped>\n",
       "    .dataframe tbody tr th:only-of-type {\n",
       "        vertical-align: middle;\n",
       "    }\n",
       "\n",
       "    .dataframe tbody tr th {\n",
       "        vertical-align: top;\n",
       "    }\n",
       "\n",
       "    .dataframe thead th {\n",
       "        text-align: right;\n",
       "    }\n",
       "</style>\n",
       "<table border=\"1\" class=\"dataframe\">\n",
       "  <thead>\n",
       "    <tr style=\"text-align: right;\">\n",
       "      <th></th>\n",
       "      <th>condition</th>\n",
       "      <th>heel</th>\n",
       "      <th>style</th>\n",
       "      <th>color</th>\n",
       "      <th>material</th>\n",
       "      <th>description</th>\n",
       "    </tr>\n",
       "  </thead>\n",
       "  <tbody>\n",
       "    <tr>\n",
       "      <th>0</th>\n",
       "      <td>Pre-owned</td>\n",
       "      <td>Low</td>\n",
       "      <td>Open Toe</td>\n",
       "      <td>Black</td>\n",
       "      <td>Suede</td>\n",
       "      <td>Very good condition. Heel height very manageab...</td>\n",
       "    </tr>\n",
       "    <tr>\n",
       "      <th>1</th>\n",
       "      <td>New with box</td>\n",
       "      <td>High</td>\n",
       "      <td>Slingback</td>\n",
       "      <td>Other/Missing</td>\n",
       "      <td>Satin</td>\n",
       "      <td>From my own personal collection, great conditi...</td>\n",
       "    </tr>\n",
       "    <tr>\n",
       "      <th>2</th>\n",
       "      <td>Pre-owned</td>\n",
       "      <td>High</td>\n",
       "      <td>Pump</td>\n",
       "      <td>Black</td>\n",
       "      <td>Other/Missing</td>\n",
       "      <td>With its staggering half-foot-high heel and ch...</td>\n",
       "    </tr>\n",
       "    <tr>\n",
       "      <th>3</th>\n",
       "      <td>Pre-owned</td>\n",
       "      <td>High</td>\n",
       "      <td>Pump</td>\n",
       "      <td>Black</td>\n",
       "      <td>Snakeskin</td>\n",
       "      <td>Comes w/ box, dustbag, and extra heel in its o...</td>\n",
       "    </tr>\n",
       "    <tr>\n",
       "      <th>4</th>\n",
       "      <td>Pre-owned</td>\n",
       "      <td>Flat</td>\n",
       "      <td>Other/Missing</td>\n",
       "      <td>Other/Missing</td>\n",
       "      <td>Leather</td>\n",
       "      <td>Please ask questions before bidding. \\n \\nThis...</td>\n",
       "    </tr>\n",
       "  </tbody>\n",
       "</table>\n",
       "</div>"
      ],
      "text/plain": [
       "      condition  heel          style          color       material  \\\n",
       "0     Pre-owned   Low       Open Toe          Black          Suede   \n",
       "1  New with box  High      Slingback  Other/Missing          Satin   \n",
       "2     Pre-owned  High           Pump          Black  Other/Missing   \n",
       "3     Pre-owned  High           Pump          Black      Snakeskin   \n",
       "4     Pre-owned  Flat  Other/Missing  Other/Missing        Leather   \n",
       "\n",
       "                                         description  \n",
       "0  Very good condition. Heel height very manageab...  \n",
       "1  From my own personal collection, great conditi...  \n",
       "2  With its staggering half-foot-high heel and ch...  \n",
       "3  Comes w/ box, dustbag, and extra heel in its o...  \n",
       "4  Please ask questions before bidding. \\n \\nThis...  "
      ]
     },
     "execution_count": 55,
     "metadata": {},
     "output_type": "execute_result"
    }
   ],
   "source": [
    "obj_df = ebay_data.select_dtypes(include=['object']).copy()\n",
    "obj_df.head()"
   ]
  },
  {
   "cell_type": "code",
   "execution_count": 59,
   "metadata": {},
   "outputs": [
    {
     "data": {
      "text/html": [
       "<div>\n",
       "<style scoped>\n",
       "    .dataframe tbody tr th:only-of-type {\n",
       "        vertical-align: middle;\n",
       "    }\n",
       "\n",
       "    .dataframe tbody tr th {\n",
       "        vertical-align: top;\n",
       "    }\n",
       "\n",
       "    .dataframe thead th {\n",
       "        text-align: right;\n",
       "    }\n",
       "</style>\n",
       "<table border=\"1\" class=\"dataframe\">\n",
       "  <thead>\n",
       "    <tr style=\"text-align: right;\">\n",
       "      <th></th>\n",
       "      <th>condition</th>\n",
       "      <th>heel</th>\n",
       "      <th>style</th>\n",
       "      <th>color</th>\n",
       "      <th>material</th>\n",
       "      <th>description</th>\n",
       "    </tr>\n",
       "  </thead>\n",
       "  <tbody>\n",
       "    <tr>\n",
       "      <th>71</th>\n",
       "      <td>Pre-owned</td>\n",
       "      <td>High</td>\n",
       "      <td>Slingback</td>\n",
       "      <td>Other/Missing</td>\n",
       "      <td>Leather</td>\n",
       "      <td>NaN</td>\n",
       "    </tr>\n",
       "    <tr>\n",
       "      <th>170</th>\n",
       "      <td>Pre-owned</td>\n",
       "      <td>High</td>\n",
       "      <td>Platform</td>\n",
       "      <td>Black</td>\n",
       "      <td>Patent Leather</td>\n",
       "      <td>NaN</td>\n",
       "    </tr>\n",
       "    <tr>\n",
       "      <th>180</th>\n",
       "      <td>Pre-owned</td>\n",
       "      <td>Medium</td>\n",
       "      <td>Open Toe</td>\n",
       "      <td>Other/Missing</td>\n",
       "      <td>Patent Leather</td>\n",
       "      <td>NaN</td>\n",
       "    </tr>\n",
       "    <tr>\n",
       "      <th>242</th>\n",
       "      <td>New with box</td>\n",
       "      <td>High</td>\n",
       "      <td>Open Toe</td>\n",
       "      <td>Black</td>\n",
       "      <td>Patent Leather</td>\n",
       "      <td>NaN</td>\n",
       "    </tr>\n",
       "    <tr>\n",
       "      <th>366</th>\n",
       "      <td>New with box</td>\n",
       "      <td>Medium</td>\n",
       "      <td>Other/Missing</td>\n",
       "      <td>Black</td>\n",
       "      <td>Suede</td>\n",
       "      <td>NaN</td>\n",
       "    </tr>\n",
       "    <tr>\n",
       "      <th>...</th>\n",
       "      <td>...</td>\n",
       "      <td>...</td>\n",
       "      <td>...</td>\n",
       "      <td>...</td>\n",
       "      <td>...</td>\n",
       "      <td>...</td>\n",
       "    </tr>\n",
       "    <tr>\n",
       "      <th>3669</th>\n",
       "      <td>New with box</td>\n",
       "      <td>High</td>\n",
       "      <td>Pump</td>\n",
       "      <td>Brown</td>\n",
       "      <td>Leather</td>\n",
       "      <td>NaN</td>\n",
       "    </tr>\n",
       "    <tr>\n",
       "      <th>3672</th>\n",
       "      <td>New with box</td>\n",
       "      <td>High</td>\n",
       "      <td>Pump</td>\n",
       "      <td>Brown</td>\n",
       "      <td>Leather</td>\n",
       "      <td>NaN</td>\n",
       "    </tr>\n",
       "    <tr>\n",
       "      <th>3722</th>\n",
       "      <td>New with box</td>\n",
       "      <td>High</td>\n",
       "      <td>Open Toe</td>\n",
       "      <td>Other/Missing</td>\n",
       "      <td>Leather</td>\n",
       "      <td>NaN</td>\n",
       "    </tr>\n",
       "    <tr>\n",
       "      <th>3747</th>\n",
       "      <td>New with box</td>\n",
       "      <td>High</td>\n",
       "      <td>Pump</td>\n",
       "      <td>Other/Missing</td>\n",
       "      <td>Leather</td>\n",
       "      <td>NaN</td>\n",
       "    </tr>\n",
       "    <tr>\n",
       "      <th>3795</th>\n",
       "      <td>New with box</td>\n",
       "      <td>High</td>\n",
       "      <td>Other/Missing</td>\n",
       "      <td>Brown</td>\n",
       "      <td>Leather</td>\n",
       "      <td>NaN</td>\n",
       "    </tr>\n",
       "  </tbody>\n",
       "</table>\n",
       "<p>85 rows × 6 columns</p>\n",
       "</div>"
      ],
      "text/plain": [
       "         condition    heel          style          color        material  \\\n",
       "71       Pre-owned    High      Slingback  Other/Missing         Leather   \n",
       "170      Pre-owned    High       Platform          Black  Patent Leather   \n",
       "180      Pre-owned  Medium       Open Toe  Other/Missing  Patent Leather   \n",
       "242   New with box    High       Open Toe          Black  Patent Leather   \n",
       "366   New with box  Medium  Other/Missing          Black           Suede   \n",
       "...            ...     ...            ...            ...             ...   \n",
       "3669  New with box    High           Pump          Brown         Leather   \n",
       "3672  New with box    High           Pump          Brown         Leather   \n",
       "3722  New with box    High       Open Toe  Other/Missing         Leather   \n",
       "3747  New with box    High           Pump  Other/Missing         Leather   \n",
       "3795  New with box    High  Other/Missing          Brown         Leather   \n",
       "\n",
       "     description  \n",
       "71           NaN  \n",
       "170          NaN  \n",
       "180          NaN  \n",
       "242          NaN  \n",
       "366          NaN  \n",
       "...          ...  \n",
       "3669         NaN  \n",
       "3672         NaN  \n",
       "3722         NaN  \n",
       "3747         NaN  \n",
       "3795         NaN  \n",
       "\n",
       "[85 rows x 6 columns]"
      ]
     },
     "execution_count": 59,
     "metadata": {},
     "output_type": "execute_result"
    }
   ],
   "source": [
    "obj_df[obj_df.isnull().any(axis=1)]"
   ]
  },
  {
   "cell_type": "code",
   "execution_count": 60,
   "metadata": {},
   "outputs": [
    {
     "data": {
      "text/plain": [
       "High      3571\n",
       "Medium     163\n",
       "Low         38\n",
       "Flat        24\n",
       "Name: heel, dtype: int64"
      ]
     },
     "execution_count": 60,
     "metadata": {},
     "output_type": "execute_result"
    }
   ],
   "source": [
    "obj_df[\"heel\"].value_counts()\n"
   ]
  },
  {
   "cell_type": "code",
   "execution_count": 58,
   "metadata": {},
   "outputs": [],
   "source": [
    "obj_df = obj_df.fillna({\"heel\": \"High\"})"
   ]
  },
  {
   "cell_type": "code",
   "execution_count": 61,
   "metadata": {},
   "outputs": [
    {
     "name": "stdout",
     "output_type": "stream",
     "text": [
      "<class 'pandas.core.frame.DataFrame'>\n",
      "RangeIndex: 3796 entries, 0 to 3795\n",
      "Data columns (total 6 columns):\n",
      " #   Column       Non-Null Count  Dtype \n",
      "---  ------       --------------  ----- \n",
      " 0   condition    3796 non-null   object\n",
      " 1   heel         3796 non-null   object\n",
      " 2   style        3796 non-null   object\n",
      " 3   color        3796 non-null   object\n",
      " 4   material     3796 non-null   object\n",
      " 5   description  3711 non-null   object\n",
      "dtypes: object(6)\n",
      "memory usage: 89.0+ KB\n"
     ]
    }
   ],
   "source": [
    "obj_df.info()"
   ]
  },
  {
   "cell_type": "code",
   "execution_count": 71,
   "metadata": {},
   "outputs": [
    {
     "data": {
      "text/plain": [
       "Index(['condition', 'heel', 'style', 'color', 'material', 'description'], dtype='object')"
      ]
     },
     "execution_count": 71,
     "metadata": {},
     "output_type": "execute_result"
    }
   ],
   "source": [
    "obj_df.columns"
   ]
  },
  {
   "cell_type": "code",
   "execution_count": 72,
   "metadata": {},
   "outputs": [
    {
     "data": {
      "text/plain": [
       "Index(['biddable', 'sold', 'startprice', 'condition', 'size', 'heel', 'style',\n",
       "       'color', 'material', 'description'],\n",
       "      dtype='object')"
      ]
     },
     "execution_count": 72,
     "metadata": {},
     "output_type": "execute_result"
    }
   ],
   "source": [
    "ebay_data.columns"
   ]
  },
  {
   "cell_type": "code",
   "execution_count": 73,
   "metadata": {},
   "outputs": [],
   "source": [
    "ebay_data2=ebay_data[['biddable', 'sold', 'startprice']]"
   ]
  },
  {
   "cell_type": "code",
   "execution_count": 74,
   "metadata": {},
   "outputs": [],
   "source": [
    "ebay_data1=pd.concat([ebay_data2,obj_df],axis=1)"
   ]
  },
  {
   "cell_type": "code",
   "execution_count": null,
   "metadata": {},
   "outputs": [],
   "source": []
  },
  {
   "cell_type": "code",
   "execution_count": 75,
   "metadata": {},
   "outputs": [
    {
     "data": {
      "text/html": [
       "<div>\n",
       "<style scoped>\n",
       "    .dataframe tbody tr th:only-of-type {\n",
       "        vertical-align: middle;\n",
       "    }\n",
       "\n",
       "    .dataframe tbody tr th {\n",
       "        vertical-align: top;\n",
       "    }\n",
       "\n",
       "    .dataframe thead th {\n",
       "        text-align: right;\n",
       "    }\n",
       "</style>\n",
       "<table border=\"1\" class=\"dataframe\">\n",
       "  <thead>\n",
       "    <tr style=\"text-align: right;\">\n",
       "      <th></th>\n",
       "      <th>biddable</th>\n",
       "      <th>sold</th>\n",
       "      <th>startprice</th>\n",
       "      <th>condition</th>\n",
       "      <th>heel</th>\n",
       "      <th>style</th>\n",
       "      <th>color</th>\n",
       "      <th>material</th>\n",
       "      <th>description</th>\n",
       "    </tr>\n",
       "  </thead>\n",
       "  <tbody>\n",
       "    <tr>\n",
       "      <th>0</th>\n",
       "      <td>1</td>\n",
       "      <td>0</td>\n",
       "      <td>199.00</td>\n",
       "      <td>Pre-owned</td>\n",
       "      <td>Low</td>\n",
       "      <td>Open Toe</td>\n",
       "      <td>Black</td>\n",
       "      <td>Suede</td>\n",
       "      <td>Very good condition. Heel height very manageab...</td>\n",
       "    </tr>\n",
       "    <tr>\n",
       "      <th>1</th>\n",
       "      <td>0</td>\n",
       "      <td>0</td>\n",
       "      <td>375.00</td>\n",
       "      <td>New with box</td>\n",
       "      <td>High</td>\n",
       "      <td>Slingback</td>\n",
       "      <td>Other/Missing</td>\n",
       "      <td>Satin</td>\n",
       "      <td>From my own personal collection, great conditi...</td>\n",
       "    </tr>\n",
       "    <tr>\n",
       "      <th>2</th>\n",
       "      <td>1</td>\n",
       "      <td>1</td>\n",
       "      <td>299.99</td>\n",
       "      <td>Pre-owned</td>\n",
       "      <td>High</td>\n",
       "      <td>Pump</td>\n",
       "      <td>Black</td>\n",
       "      <td>Other/Missing</td>\n",
       "      <td>With its staggering half-foot-high heel and ch...</td>\n",
       "    </tr>\n",
       "    <tr>\n",
       "      <th>3</th>\n",
       "      <td>1</td>\n",
       "      <td>1</td>\n",
       "      <td>49.99</td>\n",
       "      <td>Pre-owned</td>\n",
       "      <td>High</td>\n",
       "      <td>Pump</td>\n",
       "      <td>Black</td>\n",
       "      <td>Snakeskin</td>\n",
       "      <td>Comes w/ box, dustbag, and extra heel in its o...</td>\n",
       "    </tr>\n",
       "    <tr>\n",
       "      <th>4</th>\n",
       "      <td>0</td>\n",
       "      <td>0</td>\n",
       "      <td>89.00</td>\n",
       "      <td>Pre-owned</td>\n",
       "      <td>Flat</td>\n",
       "      <td>Other/Missing</td>\n",
       "      <td>Other/Missing</td>\n",
       "      <td>Leather</td>\n",
       "      <td>Please ask questions before bidding. \\n \\nThis...</td>\n",
       "    </tr>\n",
       "  </tbody>\n",
       "</table>\n",
       "</div>"
      ],
      "text/plain": [
       "   biddable  sold  startprice     condition  heel          style  \\\n",
       "0         1     0      199.00     Pre-owned   Low       Open Toe   \n",
       "1         0     0      375.00  New with box  High      Slingback   \n",
       "2         1     1      299.99     Pre-owned  High           Pump   \n",
       "3         1     1       49.99     Pre-owned  High           Pump   \n",
       "4         0     0       89.00     Pre-owned  Flat  Other/Missing   \n",
       "\n",
       "           color       material  \\\n",
       "0          Black          Suede   \n",
       "1  Other/Missing          Satin   \n",
       "2          Black  Other/Missing   \n",
       "3          Black      Snakeskin   \n",
       "4  Other/Missing        Leather   \n",
       "\n",
       "                                         description  \n",
       "0  Very good condition. Heel height very manageab...  \n",
       "1  From my own personal collection, great conditi...  \n",
       "2  With its staggering half-foot-high heel and ch...  \n",
       "3  Comes w/ box, dustbag, and extra heel in its o...  \n",
       "4  Please ask questions before bidding. \\n \\nThis...  "
      ]
     },
     "execution_count": 75,
     "metadata": {},
     "output_type": "execute_result"
    }
   ],
   "source": [
    "ebay_data1.head()"
   ]
  },
  {
   "cell_type": "code",
   "execution_count": 76,
   "metadata": {},
   "outputs": [],
   "source": [
    "ebay_data1.drop('description', axis=1, inplace=True)\n"
   ]
  },
  {
   "cell_type": "code",
   "execution_count": 78,
   "metadata": {},
   "outputs": [
    {
     "name": "stdout",
     "output_type": "stream",
     "text": [
      "<class 'pandas.core.frame.DataFrame'>\n",
      "RangeIndex: 3796 entries, 0 to 3795\n",
      "Data columns (total 8 columns):\n",
      " #   Column      Non-Null Count  Dtype  \n",
      "---  ------      --------------  -----  \n",
      " 0   biddable    3796 non-null   int64  \n",
      " 1   sold        3796 non-null   int64  \n",
      " 2   startprice  3796 non-null   float64\n",
      " 3   condition   3796 non-null   object \n",
      " 4   heel        3796 non-null   object \n",
      " 5   style       3796 non-null   object \n",
      " 6   color       3796 non-null   object \n",
      " 7   material    3796 non-null   object \n",
      "dtypes: float64(1), int64(2), object(5)\n",
      "memory usage: 163.2+ KB\n"
     ]
    }
   ],
   "source": [
    "ebay_data1.info()"
   ]
  },
  {
   "cell_type": "code",
   "execution_count": 80,
   "metadata": {},
   "outputs": [
    {
     "data": {
      "text/html": [
       "<div>\n",
       "<style scoped>\n",
       "    .dataframe tbody tr th:only-of-type {\n",
       "        vertical-align: middle;\n",
       "    }\n",
       "\n",
       "    .dataframe tbody tr th {\n",
       "        vertical-align: top;\n",
       "    }\n",
       "\n",
       "    .dataframe thead th {\n",
       "        text-align: right;\n",
       "    }\n",
       "</style>\n",
       "<table border=\"1\" class=\"dataframe\">\n",
       "  <thead>\n",
       "    <tr style=\"text-align: right;\">\n",
       "      <th></th>\n",
       "      <th>New with defects</th>\n",
       "      <th>New without box</th>\n",
       "      <th>Pre-owned</th>\n",
       "    </tr>\n",
       "  </thead>\n",
       "  <tbody>\n",
       "    <tr>\n",
       "      <th>0</th>\n",
       "      <td>0</td>\n",
       "      <td>0</td>\n",
       "      <td>1</td>\n",
       "    </tr>\n",
       "    <tr>\n",
       "      <th>1</th>\n",
       "      <td>0</td>\n",
       "      <td>0</td>\n",
       "      <td>0</td>\n",
       "    </tr>\n",
       "    <tr>\n",
       "      <th>2</th>\n",
       "      <td>0</td>\n",
       "      <td>0</td>\n",
       "      <td>1</td>\n",
       "    </tr>\n",
       "    <tr>\n",
       "      <th>3</th>\n",
       "      <td>0</td>\n",
       "      <td>0</td>\n",
       "      <td>1</td>\n",
       "    </tr>\n",
       "    <tr>\n",
       "      <th>4</th>\n",
       "      <td>0</td>\n",
       "      <td>0</td>\n",
       "      <td>1</td>\n",
       "    </tr>\n",
       "  </tbody>\n",
       "</table>\n",
       "</div>"
      ],
      "text/plain": [
       "   New with defects  New without box  Pre-owned\n",
       "0                 0                0          1\n",
       "1                 0                0          0\n",
       "2                 0                0          1\n",
       "3                 0                0          1\n",
       "4                 0                0          1"
      ]
     },
     "execution_count": 80,
     "metadata": {},
     "output_type": "execute_result"
    }
   ],
   "source": [
    "condition_df=pd.get_dummies(ebay_data1['condition'],drop_first=True)\n",
    "condition_df.head()"
   ]
  },
  {
   "cell_type": "code",
   "execution_count": null,
   "metadata": {},
   "outputs": [],
   "source": []
  },
  {
   "cell_type": "code",
   "execution_count": 84,
   "metadata": {},
   "outputs": [],
   "source": [
    "heel_df=pd.get_dummies(ebay_data1['heel'],drop_first=True)\n",
    "style_df=pd.get_dummies(ebay_data1['style'],drop_first=True)\n",
    "color_df=pd.get_dummies(ebay_data1['color'],drop_first=True)\n",
    "material_df=pd.get_dummies(ebay_data1['material'],drop_first=True)"
   ]
  },
  {
   "cell_type": "code",
   "execution_count": 95,
   "metadata": {},
   "outputs": [],
   "source": [
    "ebay_train=pd.concat([ebay_data1,condition_df,heel_df,style_df,color_df,material_df],axis=1)"
   ]
  },
  {
   "cell_type": "code",
   "execution_count": 97,
   "metadata": {},
   "outputs": [],
   "source": [
    "ebay_train.drop(['condition','heel','style','color','material'], axis=1, inplace=True)\n"
   ]
  },
  {
   "cell_type": "code",
   "execution_count": 98,
   "metadata": {},
   "outputs": [
    {
     "name": "stdout",
     "output_type": "stream",
     "text": [
      "<class 'pandas.core.frame.DataFrame'>\n",
      "RangeIndex: 3796 entries, 0 to 3795\n",
      "Data columns (total 23 columns):\n",
      " #   Column            Non-Null Count  Dtype  \n",
      "---  ------            --------------  -----  \n",
      " 0   biddable          3796 non-null   int64  \n",
      " 1   sold              3796 non-null   int64  \n",
      " 2   startprice        3796 non-null   float64\n",
      " 3   New with defects  3796 non-null   uint8  \n",
      " 4   New without box   3796 non-null   uint8  \n",
      " 5   Pre-owned         3796 non-null   uint8  \n",
      " 6   High              3796 non-null   uint8  \n",
      " 7   Low               3796 non-null   uint8  \n",
      " 8   Medium            3796 non-null   uint8  \n",
      " 9   Other/Missing     3796 non-null   uint8  \n",
      " 10  Platform          3796 non-null   uint8  \n",
      " 11  Pump              3796 non-null   uint8  \n",
      " 12  Slingback         3796 non-null   uint8  \n",
      " 13  Stiletto          3796 non-null   uint8  \n",
      " 14  Black             3796 non-null   uint8  \n",
      " 15  Brown             3796 non-null   uint8  \n",
      " 16  Other/Missing     3796 non-null   uint8  \n",
      " 17  Red               3796 non-null   uint8  \n",
      " 18  Other/Missing     3796 non-null   uint8  \n",
      " 19  Patent Leather    3796 non-null   uint8  \n",
      " 20  Satin             3796 non-null   uint8  \n",
      " 21  Snakeskin         3796 non-null   uint8  \n",
      " 22  Suede             3796 non-null   uint8  \n",
      "dtypes: float64(1), int64(2), uint8(20)\n",
      "memory usage: 163.2 KB\n"
     ]
    }
   ],
   "source": [
    "ebay_train.info()"
   ]
  },
  {
   "cell_type": "code",
   "execution_count": 168,
   "metadata": {},
   "outputs": [
    {
     "data": {
      "text/html": [
       "<div>\n",
       "<style scoped>\n",
       "    .dataframe tbody tr th:only-of-type {\n",
       "        vertical-align: middle;\n",
       "    }\n",
       "\n",
       "    .dataframe tbody tr th {\n",
       "        vertical-align: top;\n",
       "    }\n",
       "\n",
       "    .dataframe thead th {\n",
       "        text-align: right;\n",
       "    }\n",
       "</style>\n",
       "<table border=\"1\" class=\"dataframe\">\n",
       "  <thead>\n",
       "    <tr style=\"text-align: right;\">\n",
       "      <th></th>\n",
       "      <th>biddable</th>\n",
       "      <th>sold</th>\n",
       "      <th>startprice</th>\n",
       "      <th>New with defects</th>\n",
       "      <th>New without box</th>\n",
       "      <th>Pre-owned</th>\n",
       "      <th>High</th>\n",
       "      <th>Low</th>\n",
       "      <th>Medium</th>\n",
       "      <th>Other/Missing</th>\n",
       "      <th>...</th>\n",
       "      <th>Stiletto</th>\n",
       "      <th>Black</th>\n",
       "      <th>Brown</th>\n",
       "      <th>Other/Missing</th>\n",
       "      <th>Red</th>\n",
       "      <th>Other/Missing</th>\n",
       "      <th>Patent Leather</th>\n",
       "      <th>Satin</th>\n",
       "      <th>Snakeskin</th>\n",
       "      <th>Suede</th>\n",
       "    </tr>\n",
       "  </thead>\n",
       "  <tbody>\n",
       "    <tr>\n",
       "      <th>0</th>\n",
       "      <td>1</td>\n",
       "      <td>0</td>\n",
       "      <td>199.00</td>\n",
       "      <td>0</td>\n",
       "      <td>0</td>\n",
       "      <td>1</td>\n",
       "      <td>0</td>\n",
       "      <td>1</td>\n",
       "      <td>0</td>\n",
       "      <td>0</td>\n",
       "      <td>...</td>\n",
       "      <td>0</td>\n",
       "      <td>1</td>\n",
       "      <td>0</td>\n",
       "      <td>0</td>\n",
       "      <td>0</td>\n",
       "      <td>0</td>\n",
       "      <td>0</td>\n",
       "      <td>0</td>\n",
       "      <td>0</td>\n",
       "      <td>1</td>\n",
       "    </tr>\n",
       "    <tr>\n",
       "      <th>1</th>\n",
       "      <td>0</td>\n",
       "      <td>0</td>\n",
       "      <td>375.00</td>\n",
       "      <td>0</td>\n",
       "      <td>0</td>\n",
       "      <td>0</td>\n",
       "      <td>1</td>\n",
       "      <td>0</td>\n",
       "      <td>0</td>\n",
       "      <td>0</td>\n",
       "      <td>...</td>\n",
       "      <td>0</td>\n",
       "      <td>0</td>\n",
       "      <td>0</td>\n",
       "      <td>1</td>\n",
       "      <td>0</td>\n",
       "      <td>0</td>\n",
       "      <td>0</td>\n",
       "      <td>1</td>\n",
       "      <td>0</td>\n",
       "      <td>0</td>\n",
       "    </tr>\n",
       "    <tr>\n",
       "      <th>2</th>\n",
       "      <td>1</td>\n",
       "      <td>1</td>\n",
       "      <td>299.99</td>\n",
       "      <td>0</td>\n",
       "      <td>0</td>\n",
       "      <td>1</td>\n",
       "      <td>1</td>\n",
       "      <td>0</td>\n",
       "      <td>0</td>\n",
       "      <td>0</td>\n",
       "      <td>...</td>\n",
       "      <td>0</td>\n",
       "      <td>1</td>\n",
       "      <td>0</td>\n",
       "      <td>0</td>\n",
       "      <td>0</td>\n",
       "      <td>1</td>\n",
       "      <td>0</td>\n",
       "      <td>0</td>\n",
       "      <td>0</td>\n",
       "      <td>0</td>\n",
       "    </tr>\n",
       "    <tr>\n",
       "      <th>3</th>\n",
       "      <td>1</td>\n",
       "      <td>1</td>\n",
       "      <td>49.99</td>\n",
       "      <td>0</td>\n",
       "      <td>0</td>\n",
       "      <td>1</td>\n",
       "      <td>1</td>\n",
       "      <td>0</td>\n",
       "      <td>0</td>\n",
       "      <td>0</td>\n",
       "      <td>...</td>\n",
       "      <td>0</td>\n",
       "      <td>1</td>\n",
       "      <td>0</td>\n",
       "      <td>0</td>\n",
       "      <td>0</td>\n",
       "      <td>0</td>\n",
       "      <td>0</td>\n",
       "      <td>0</td>\n",
       "      <td>1</td>\n",
       "      <td>0</td>\n",
       "    </tr>\n",
       "    <tr>\n",
       "      <th>4</th>\n",
       "      <td>0</td>\n",
       "      <td>0</td>\n",
       "      <td>89.00</td>\n",
       "      <td>0</td>\n",
       "      <td>0</td>\n",
       "      <td>1</td>\n",
       "      <td>0</td>\n",
       "      <td>0</td>\n",
       "      <td>0</td>\n",
       "      <td>1</td>\n",
       "      <td>...</td>\n",
       "      <td>0</td>\n",
       "      <td>0</td>\n",
       "      <td>0</td>\n",
       "      <td>1</td>\n",
       "      <td>0</td>\n",
       "      <td>0</td>\n",
       "      <td>0</td>\n",
       "      <td>0</td>\n",
       "      <td>0</td>\n",
       "      <td>0</td>\n",
       "    </tr>\n",
       "  </tbody>\n",
       "</table>\n",
       "<p>5 rows × 23 columns</p>\n",
       "</div>"
      ],
      "text/plain": [
       "   biddable  sold  startprice  New with defects  New without box  Pre-owned  \\\n",
       "0         1     0      199.00                 0                0          1   \n",
       "1         0     0      375.00                 0                0          0   \n",
       "2         1     1      299.99                 0                0          1   \n",
       "3         1     1       49.99                 0                0          1   \n",
       "4         0     0       89.00                 0                0          1   \n",
       "\n",
       "   High  Low  Medium  Other/Missing  ...  Stiletto  Black  Brown  \\\n",
       "0     0    1       0              0  ...         0      1      0   \n",
       "1     1    0       0              0  ...         0      0      0   \n",
       "2     1    0       0              0  ...         0      1      0   \n",
       "3     1    0       0              0  ...         0      1      0   \n",
       "4     0    0       0              1  ...         0      0      0   \n",
       "\n",
       "   Other/Missing  Red  Other/Missing  Patent Leather  Satin  Snakeskin  Suede  \n",
       "0              0    0              0               0      0          0      1  \n",
       "1              1    0              0               0      1          0      0  \n",
       "2              0    0              1               0      0          0      0  \n",
       "3              0    0              0               0      0          1      0  \n",
       "4              1    0              0               0      0          0      0  \n",
       "\n",
       "[5 rows x 23 columns]"
      ]
     },
     "execution_count": 168,
     "metadata": {},
     "output_type": "execute_result"
    }
   ],
   "source": [
    "ebay_train.drop([''\n",
    "])"
   ]
  },
  {
   "cell_type": "code",
   "execution_count": 100,
   "metadata": {},
   "outputs": [],
   "source": [
    "X=ebay_train.drop('sold',axis=1)\n",
    "Y=ebay_train['sold']\n",
    "Y=Y.astype('int')"
   ]
  },
  {
   "cell_type": "code",
   "execution_count": 143,
   "metadata": {},
   "outputs": [],
   "source": [
    "from sklearn.model_selection import train_test_split\n",
    "\n",
    "X_train, X_test, y_train, y_test = train_test_split(X, Y, test_size=0.2, random_state=11)"
   ]
  },
  {
   "cell_type": "code",
   "execution_count": 144,
   "metadata": {},
   "outputs": [],
   "source": [
    "from sklearn.preprocessing import MinMaxScaler\n",
    "\n",
    "# fit scaler on training data\n",
    "norm = MinMaxScaler().fit(X_train)\n",
    "\n",
    "# transform training data\n",
    "X_train_norm = norm.transform(X_train)\n",
    "\n",
    "# transform testing dataabs\n",
    "X_test_norm = norm.transform(X_test)"
   ]
  },
  {
   "cell_type": "code",
   "execution_count": 145,
   "metadata": {},
   "outputs": [
    {
     "name": "stdout",
     "output_type": "stream",
     "text": [
      "[[1.         0.07777556 0.         ... 0.         0.         0.        ]\n",
      " [1.         0.03311111 0.         ... 0.         0.         0.        ]\n",
      " [0.         0.13110889 0.         ... 0.         0.         0.        ]\n",
      " ...\n",
      " [1.         0.11555333 0.         ... 0.         0.         0.        ]\n",
      " [0.         0.06444444 0.         ... 0.         0.         1.        ]\n",
      " [0.         0.17755556 0.         ... 0.         0.         1.        ]]\n"
     ]
    }
   ],
   "source": [
    "print(X_test_norm)"
   ]
  },
  {
   "cell_type": "code",
   "execution_count": 161,
   "metadata": {},
   "outputs": [
    {
     "name": "stderr",
     "output_type": "stream",
     "text": [
      "c:\\users\\amhotta\\appdata\\local\\programs\\python\\python38-32\\lib\\site-packages\\sklearn\\linear_model\\_logistic.py:762: ConvergenceWarning: lbfgs failed to converge (status=1):\n",
      "STOP: TOTAL NO. of ITERATIONS REACHED LIMIT.\n",
      "\n",
      "Increase the number of iterations (max_iter) or scale the data as shown in:\n",
      "    https://scikit-learn.org/stable/modules/preprocessing.html\n",
      "Please also refer to the documentation for alternative solver options:\n",
      "    https://scikit-learn.org/stable/modules/linear_model.html#logistic-regression\n",
      "  n_iter_i = _check_optimize_result(\n"
     ]
    },
    {
     "data": {
      "text/plain": [
       "LogisticRegression()"
      ]
     },
     "execution_count": 161,
     "metadata": {},
     "output_type": "execute_result"
    }
   ],
   "source": [
    "from sklearn.linear_model import LogisticRegression\n",
    "logmodel = LogisticRegression()\n",
    "\n",
    "logmodel.fit(X_train,y_train)\n"
   ]
  },
  {
   "cell_type": "code",
   "execution_count": 162,
   "metadata": {},
   "outputs": [],
   "source": [
    "predictions=logmodel.predict(X_test)"
   ]
  },
  {
   "cell_type": "code",
   "execution_count": 155,
   "metadata": {},
   "outputs": [],
   "source": [
    "from sklearn.metrics import classification_report\n"
   ]
  },
  {
   "cell_type": "code",
   "execution_count": 163,
   "metadata": {},
   "outputs": [
    {
     "name": "stdout",
     "output_type": "stream",
     "text": [
      "              precision    recall  f1-score   support\n",
      "\n",
      "           0       0.82      0.98      0.89       602\n",
      "           1       0.69      0.18      0.29       158\n",
      "\n",
      "    accuracy                           0.81       760\n",
      "   macro avg       0.76      0.58      0.59       760\n",
      "weighted avg       0.79      0.81      0.77       760\n",
      "\n"
     ]
    }
   ],
   "source": [
    "print(classification_report(y_test,predictions))"
   ]
  },
  {
   "cell_type": "code",
   "execution_count": 157,
   "metadata": {},
   "outputs": [],
   "source": [
    "from sklearn.metrics import confusion_matrix, accuracy_score"
   ]
  },
  {
   "cell_type": "code",
   "execution_count": 164,
   "metadata": {},
   "outputs": [
    {
     "data": {
      "text/plain": [
       "array([[589,  13],\n",
       "       [129,  29]], dtype=int64)"
      ]
     },
     "execution_count": 164,
     "metadata": {},
     "output_type": "execute_result"
    }
   ],
   "source": [
    "confusion_matrix(y_test,predictions)"
   ]
  },
  {
   "cell_type": "code",
   "execution_count": 165,
   "metadata": {},
   "outputs": [
    {
     "data": {
      "text/plain": [
       "0.8131578947368421"
      ]
     },
     "execution_count": 165,
     "metadata": {},
     "output_type": "execute_result"
    }
   ],
   "source": [
    "accuracy_score(y_test, predictions)"
   ]
  },
  {
   "cell_type": "code",
   "execution_count": 132,
   "metadata": {},
   "outputs": [
    {
     "data": {
      "text/plain": [
       "DecisionTreeClassifier(max_depth=3, min_samples_leaf=5, random_state=4)"
      ]
     },
     "execution_count": 132,
     "metadata": {},
     "output_type": "execute_result"
    }
   ],
   "source": [
    "#Decision trees\n",
    "from sklearn.tree import DecisionTreeClassifier\n",
    "classifier1 = DecisionTreeClassifier(criterion = \"gini\", random_state = 4,\n",
    "                               max_depth=3, min_samples_leaf=5)\n",
    "\n",
    "\n",
    "classifier1.fit(X_train_norm, y_train)\n"
   ]
  },
  {
   "cell_type": "code",
   "execution_count": 133,
   "metadata": {},
   "outputs": [],
   "source": [
    "#predictions\n",
    "\n",
    "predictions = classifier1.predict(X_test_norm)"
   ]
  },
  {
   "cell_type": "code",
   "execution_count": 134,
   "metadata": {},
   "outputs": [
    {
     "name": "stdout",
     "output_type": "stream",
     "text": [
      "              precision    recall  f1-score   support\n",
      "\n",
      "           0       0.83      0.96      0.89      1187\n",
      "           1       0.66      0.28      0.40       332\n",
      "\n",
      "    accuracy                           0.81      1519\n",
      "   macro avg       0.74      0.62      0.64      1519\n",
      "weighted avg       0.79      0.81      0.78      1519\n",
      "\n"
     ]
    }
   ],
   "source": [
    "from sklearn.metrics import classification_report\n",
    "print(classification_report(y_test,predictions))"
   ]
  },
  {
   "cell_type": "code",
   "execution_count": 135,
   "metadata": {},
   "outputs": [
    {
     "name": "stdout",
     "output_type": "stream",
     "text": [
      "[[1138   49]\n",
      " [ 238   94]]\n"
     ]
    },
    {
     "data": {
      "text/plain": [
       "0.8110599078341014"
      ]
     },
     "execution_count": 135,
     "metadata": {},
     "output_type": "execute_result"
    }
   ],
   "source": [
    "from sklearn.metrics import confusion_matrix, accuracy_score\n",
    "print(confusion_matrix(y_test, predictions))\n",
    "accuracy_score(y_test, predictions)"
   ]
  },
  {
   "cell_type": "code",
   "execution_count": 166,
   "metadata": {},
   "outputs": [
    {
     "data": {
      "image/png": "[encoded data removed]",
      "text/plain": [
       "<Figure size 432x288 with 1 Axes>"
      ]
     },
     "metadata": {
      "needs_background": "light"
     },
     "output_type": "display_data"
    }
   ],
   "source": [
    "from sklearn.metrics import roc_curve\n",
    "from sklearn.metrics import roc_auc_score\n",
    "from matplotlib import pyplot\n",
    "\n",
    "# calculate roc curve\n",
    "fpr, tpr, thresholds = roc_curve(y_test, predictions)\n",
    "# plot no skill\n",
    "pyplot.plot([0, 1], [0, 1], linestyle='--')\n",
    "# plot the roc curve for the model\n",
    "pyplot.plot(fpr, tpr, marker='.')\n",
    "\n",
    "# axis labels\n",
    "pyplot.xlabel('False Positive Rate')\n",
    "pyplot.ylabel('True Positive Rate')\n",
    "# show the plot\n",
    "pyplot.show()"
   ]
  },
  {
   "cell_type": "code",
   "execution_count": 137,
   "metadata": {},
   "outputs": [],
   "source": [
    "from sklearn.ensemble import RandomForestClassifier\n",
    "rfc = RandomForestClassifier(n_estimators=600)"
   ]
  },
  {
   "cell_type": "code",
   "execution_count": 138,
   "metadata": {},
   "outputs": [
    {
     "data": {
      "text/plain": [
       "RandomForestClassifier(n_estimators=600)"
      ]
     },
     "execution_count": 138,
     "metadata": {},
     "output_type": "execute_result"
    }
   ],
   "source": [
    "rfc.fit(X_train_norm,y_train)"
   ]
  },
  {
   "cell_type": "code",
   "execution_count": 139,
   "metadata": {},
   "outputs": [],
   "source": [
    "predictions = rfc.predict(X_test_norm)"
   ]
  },
  {
   "cell_type": "code",
   "execution_count": 140,
   "metadata": {},
   "outputs": [
    {
     "name": "stdout",
     "output_type": "stream",
     "text": [
      "              precision    recall  f1-score   support\n",
      "\n",
      "           0       0.83      0.90      0.86      1187\n",
      "           1       0.49      0.35      0.41       332\n",
      "\n",
      "    accuracy                           0.78      1519\n",
      "   macro avg       0.66      0.62      0.64      1519\n",
      "weighted avg       0.76      0.78      0.76      1519\n",
      "\n"
     ]
    }
   ],
   "source": [
    "print(classification_report(y_test,predictions))"
   ]
  },
  {
   "cell_type": "code",
   "execution_count": 141,
   "metadata": {},
   "outputs": [
    {
     "name": "stdout",
     "output_type": "stream",
     "text": [
      "[[1065  122]\n",
      " [ 215  117]]\n"
     ]
    },
    {
     "data": {
      "text/plain": [
       "0.7781435154707044"
      ]
     },
     "execution_count": 141,
     "metadata": {},
     "output_type": "execute_result"
    }
   ],
   "source": [
    "from sklearn.metrics import confusion_matrix, accuracy_score\n",
    "print(confusion_matrix(y_test, predictions))\n",
    "accuracy_score(y_test, predictions)"
   ]
  },
  {
   "cell_type": "code",
   "execution_count": null,
   "metadata": {},
   "outputs": [],
   "source": []
  }
 ],
 "metadata": {
  "kernelspec": {
   "display_name": "Python 3",
   "language": "python",
   "name": "python3"
  },
  "language_info": {
   "codemirror_mode": {
    "name": "ipython",
    "version": 3
   },
   "file_extension": ".py",
   "mimetype": "text/x-python",
   "name": "python",
   "nbconvert_exporter": "python",
   "pygments_lexer": "ipython3",
   "version": "3.8.1"
  }
 },
 "nbformat": 4,
 "nbformat_minor": 4
}
