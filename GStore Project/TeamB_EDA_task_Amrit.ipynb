{
 "cells": [
  {
   "cell_type": "markdown",
   "metadata": {},
   "source": [
    "# IMPORT ALL LIBRARIES"
   ]
  },
  {
   "cell_type": "code",
   "execution_count": 9,
   "metadata": {},
   "outputs": [],
   "source": [
    "import pandas as pd\n",
    "from pandas import Series, DataFrame\n",
    "import numpy as np\n",
    "\n",
    "import json\n",
    "import gc\n",
    "import matplotlib.pyplot as plt\n",
    "%matplotlib inline\n",
    "import seaborn as sns"
   ]
  },
  {
   "cell_type": "code",
   "execution_count": 10,
   "metadata": {},
   "outputs": [],
   "source": [
    "#Read the Dataframe from clean dataset, all JSON Columns are flattened\n",
    "\n",
    "train_clean=pd.read_csv('train_single_dataframe.csv')"
   ]
  },
  {
   "cell_type": "code",
   "execution_count": null,
   "metadata": {
    "scrolled": false
   },
   "outputs": [],
   "source": [
    "train_clean.info()"
   ]
  },
  {
   "cell_type": "code",
   "execution_count": 12,
   "metadata": {},
   "outputs": [
    {
     "data": {
      "text/plain": [
       "(903653, 56)"
      ]
     },
     "execution_count": 12,
     "metadata": {},
     "output_type": "execute_result"
    }
   ],
   "source": [
    "train_clean.shape"
   ]
  },
  {
   "cell_type": "markdown",
   "metadata": {},
   "source": [
    "# Missing values Handling"
   ]
  },
  {
   "cell_type": "code",
   "execution_count": 13,
   "metadata": {
    "scrolled": true
   },
   "outputs": [
    {
     "name": "stdout",
     "output_type": "stream",
     "text": [
      "totals.pageviews 0.0 % missing values\n",
      "totals.bounces 0.5 % missing values\n",
      "totals.newVisits 0.22 % missing values\n",
      "totals.transactionRevenue 0.99 % missing values\n",
      "trafficSource.keyword 0.56 % missing values\n",
      "trafficSource.isTrueDirect 0.7 % missing values\n",
      "trafficSource.referralPath 0.63 % missing values\n",
      "trafficSource.adwordsClickInfo.page 0.98 % missing values\n",
      "trafficSource.adwordsClickInfo.slot 0.98 % missing values\n",
      "trafficSource.adwordsClickInfo.gclId 0.98 % missing values\n",
      "trafficSource.adwordsClickInfo.adNetworkType 0.98 % missing values\n",
      "trafficSource.adwordsClickInfo.isVideoAd 0.98 % missing values\n",
      "trafficSource.adContent 0.99 % missing values\n",
      "trafficSource.campaignCode 1.0 % missing values\n"
     ]
    }
   ],
   "source": [
    "#Handle Missing values\n",
    "\n",
    "features_with_na = [features for features in train_clean.columns if train_clean[features].isnull().sum()>1]\n",
    "\n",
    "for feature in features_with_na:\n",
    "    print(feature,np.round(train_clean[feature].isnull().mean(),2), '% missing values')\n",
    "\n",
    "\n",
    "    \n",
    "# OBESERVATION1: Target variable has 0.99% missing values. \n",
    "# OBESERVATION2: Many features have more than 90% missing, we can drop these columns during Data processing "
   ]
  },
  {
   "cell_type": "code",
   "execution_count": 14,
   "metadata": {},
   "outputs": [
    {
     "name": "stdout",
     "output_type": "stream",
     "text": [
      "Number of Numerical features: 12\n"
     ]
    },
    {
     "data": {
      "text/html": [
       "<div>\n",
       "<style scoped>\n",
       "    .dataframe tbody tr th:only-of-type {\n",
       "        vertical-align: middle;\n",
       "    }\n",
       "\n",
       "    .dataframe tbody tr th {\n",
       "        vertical-align: top;\n",
       "    }\n",
       "\n",
       "    .dataframe thead th {\n",
       "        text-align: right;\n",
       "    }\n",
       "</style>\n",
       "<table border=\"1\" class=\"dataframe\">\n",
       "  <thead>\n",
       "    <tr style=\"text-align: right;\">\n",
       "      <th></th>\n",
       "      <th>Unnamed: 0</th>\n",
       "      <th>date</th>\n",
       "      <th>visitId</th>\n",
       "      <th>visitNumber</th>\n",
       "      <th>visitStartTime</th>\n",
       "      <th>totals.visits</th>\n",
       "      <th>totals.hits</th>\n",
       "      <th>totals.pageviews</th>\n",
       "      <th>totals.bounces</th>\n",
       "      <th>totals.newVisits</th>\n",
       "      <th>totals.transactionRevenue</th>\n",
       "      <th>trafficSource.adwordsClickInfo.page</th>\n",
       "    </tr>\n",
       "  </thead>\n",
       "  <tbody>\n",
       "    <tr>\n",
       "      <td>0</td>\n",
       "      <td>0</td>\n",
       "      <td>20160902</td>\n",
       "      <td>1472830385</td>\n",
       "      <td>1</td>\n",
       "      <td>1472830385</td>\n",
       "      <td>1</td>\n",
       "      <td>1</td>\n",
       "      <td>1.0</td>\n",
       "      <td>1.0</td>\n",
       "      <td>1.0</td>\n",
       "      <td>NaN</td>\n",
       "      <td>NaN</td>\n",
       "    </tr>\n",
       "    <tr>\n",
       "      <td>1</td>\n",
       "      <td>1</td>\n",
       "      <td>20160902</td>\n",
       "      <td>1472880147</td>\n",
       "      <td>1</td>\n",
       "      <td>1472880147</td>\n",
       "      <td>1</td>\n",
       "      <td>1</td>\n",
       "      <td>1.0</td>\n",
       "      <td>1.0</td>\n",
       "      <td>1.0</td>\n",
       "      <td>NaN</td>\n",
       "      <td>NaN</td>\n",
       "    </tr>\n",
       "    <tr>\n",
       "      <td>2</td>\n",
       "      <td>2</td>\n",
       "      <td>20160902</td>\n",
       "      <td>1472865386</td>\n",
       "      <td>1</td>\n",
       "      <td>1472865386</td>\n",
       "      <td>1</td>\n",
       "      <td>1</td>\n",
       "      <td>1.0</td>\n",
       "      <td>1.0</td>\n",
       "      <td>1.0</td>\n",
       "      <td>NaN</td>\n",
       "      <td>NaN</td>\n",
       "    </tr>\n",
       "    <tr>\n",
       "      <td>3</td>\n",
       "      <td>3</td>\n",
       "      <td>20160902</td>\n",
       "      <td>1472881213</td>\n",
       "      <td>1</td>\n",
       "      <td>1472881213</td>\n",
       "      <td>1</td>\n",
       "      <td>1</td>\n",
       "      <td>1.0</td>\n",
       "      <td>1.0</td>\n",
       "      <td>1.0</td>\n",
       "      <td>NaN</td>\n",
       "      <td>NaN</td>\n",
       "    </tr>\n",
       "    <tr>\n",
       "      <td>4</td>\n",
       "      <td>4</td>\n",
       "      <td>20160902</td>\n",
       "      <td>1472822600</td>\n",
       "      <td>2</td>\n",
       "      <td>1472822600</td>\n",
       "      <td>1</td>\n",
       "      <td>1</td>\n",
       "      <td>1.0</td>\n",
       "      <td>1.0</td>\n",
       "      <td>NaN</td>\n",
       "      <td>NaN</td>\n",
       "      <td>NaN</td>\n",
       "    </tr>\n",
       "    <tr>\n",
       "      <td>...</td>\n",
       "      <td>...</td>\n",
       "      <td>...</td>\n",
       "      <td>...</td>\n",
       "      <td>...</td>\n",
       "      <td>...</td>\n",
       "      <td>...</td>\n",
       "      <td>...</td>\n",
       "      <td>...</td>\n",
       "      <td>...</td>\n",
       "      <td>...</td>\n",
       "      <td>...</td>\n",
       "      <td>...</td>\n",
       "    </tr>\n",
       "    <tr>\n",
       "      <td>903648</td>\n",
       "      <td>903648</td>\n",
       "      <td>20170104</td>\n",
       "      <td>1483554750</td>\n",
       "      <td>1</td>\n",
       "      <td>1483554750</td>\n",
       "      <td>1</td>\n",
       "      <td>17</td>\n",
       "      <td>15.0</td>\n",
       "      <td>NaN</td>\n",
       "      <td>1.0</td>\n",
       "      <td>NaN</td>\n",
       "      <td>NaN</td>\n",
       "    </tr>\n",
       "    <tr>\n",
       "      <td>903649</td>\n",
       "      <td>903649</td>\n",
       "      <td>20170104</td>\n",
       "      <td>1483543798</td>\n",
       "      <td>1</td>\n",
       "      <td>1483543798</td>\n",
       "      <td>1</td>\n",
       "      <td>18</td>\n",
       "      <td>13.0</td>\n",
       "      <td>NaN</td>\n",
       "      <td>1.0</td>\n",
       "      <td>NaN</td>\n",
       "      <td>NaN</td>\n",
       "    </tr>\n",
       "    <tr>\n",
       "      <td>903650</td>\n",
       "      <td>903650</td>\n",
       "      <td>20170104</td>\n",
       "      <td>1483526434</td>\n",
       "      <td>1</td>\n",
       "      <td>1483526434</td>\n",
       "      <td>1</td>\n",
       "      <td>24</td>\n",
       "      <td>21.0</td>\n",
       "      <td>NaN</td>\n",
       "      <td>1.0</td>\n",
       "      <td>NaN</td>\n",
       "      <td>NaN</td>\n",
       "    </tr>\n",
       "    <tr>\n",
       "      <td>903651</td>\n",
       "      <td>903651</td>\n",
       "      <td>20170104</td>\n",
       "      <td>1483592857</td>\n",
       "      <td>1</td>\n",
       "      <td>1483592864</td>\n",
       "      <td>1</td>\n",
       "      <td>24</td>\n",
       "      <td>22.0</td>\n",
       "      <td>NaN</td>\n",
       "      <td>1.0</td>\n",
       "      <td>NaN</td>\n",
       "      <td>NaN</td>\n",
       "    </tr>\n",
       "    <tr>\n",
       "      <td>903652</td>\n",
       "      <td>903652</td>\n",
       "      <td>20170104</td>\n",
       "      <td>1483574474</td>\n",
       "      <td>1</td>\n",
       "      <td>1483574474</td>\n",
       "      <td>1</td>\n",
       "      <td>31</td>\n",
       "      <td>31.0</td>\n",
       "      <td>NaN</td>\n",
       "      <td>1.0</td>\n",
       "      <td>NaN</td>\n",
       "      <td>NaN</td>\n",
       "    </tr>\n",
       "  </tbody>\n",
       "</table>\n",
       "<p>903653 rows × 12 columns</p>\n",
       "</div>"
      ],
      "text/plain": [
       "        Unnamed: 0      date     visitId  visitNumber  visitStartTime  \\\n",
       "0                0  20160902  1472830385            1      1472830385   \n",
       "1                1  20160902  1472880147            1      1472880147   \n",
       "2                2  20160902  1472865386            1      1472865386   \n",
       "3                3  20160902  1472881213            1      1472881213   \n",
       "4                4  20160902  1472822600            2      1472822600   \n",
       "...            ...       ...         ...          ...             ...   \n",
       "903648      903648  20170104  1483554750            1      1483554750   \n",
       "903649      903649  20170104  1483543798            1      1483543798   \n",
       "903650      903650  20170104  1483526434            1      1483526434   \n",
       "903651      903651  20170104  1483592857            1      1483592864   \n",
       "903652      903652  20170104  1483574474            1      1483574474   \n",
       "\n",
       "        totals.visits  totals.hits  totals.pageviews  totals.bounces  \\\n",
       "0                   1            1               1.0             1.0   \n",
       "1                   1            1               1.0             1.0   \n",
       "2                   1            1               1.0             1.0   \n",
       "3                   1            1               1.0             1.0   \n",
       "4                   1            1               1.0             1.0   \n",
       "...               ...          ...               ...             ...   \n",
       "903648              1           17              15.0             NaN   \n",
       "903649              1           18              13.0             NaN   \n",
       "903650              1           24              21.0             NaN   \n",
       "903651              1           24              22.0             NaN   \n",
       "903652              1           31              31.0             NaN   \n",
       "\n",
       "        totals.newVisits  totals.transactionRevenue  \\\n",
       "0                    1.0                        NaN   \n",
       "1                    1.0                        NaN   \n",
       "2                    1.0                        NaN   \n",
       "3                    1.0                        NaN   \n",
       "4                    NaN                        NaN   \n",
       "...                  ...                        ...   \n",
       "903648               1.0                        NaN   \n",
       "903649               1.0                        NaN   \n",
       "903650               1.0                        NaN   \n",
       "903651               1.0                        NaN   \n",
       "903652               1.0                        NaN   \n",
       "\n",
       "        trafficSource.adwordsClickInfo.page  \n",
       "0                                       NaN  \n",
       "1                                       NaN  \n",
       "2                                       NaN  \n",
       "3                                       NaN  \n",
       "4                                       NaN  \n",
       "...                                     ...  \n",
       "903648                                  NaN  \n",
       "903649                                  NaN  \n",
       "903650                                  NaN  \n",
       "903651                                  NaN  \n",
       "903652                                  NaN  \n",
       "\n",
       "[903653 rows x 12 columns]"
      ]
     },
     "execution_count": 14,
     "metadata": {},
     "output_type": "execute_result"
    }
   ],
   "source": [
    "# Numerical values\n",
    "num_features=[feature for feature in train_clean.columns if train_clean[feature].dtypes in  ('float64','int64') ]\n",
    "print (\"Number of Numerical features:\", len(num_features))\n",
    "\n",
    "train_clean[num_features]\n"
   ]
  },
  {
   "cell_type": "code",
   "execution_count": 69,
   "metadata": {},
   "outputs": [],
   "source": [
    "#Datetime variables\n",
    "\n",
    "#Convert date column from INT to Date format.\n",
    "#Derive Year and Month fields from DateTime field\n",
    "\n",
    "train_clean['date']=pd.to_datetime(train_clean['date'],format='%Y%m%d')\n",
    "train_clean['year'] = train_clean['date'].dt.year\n",
    "train_clean['month'] = pd.to_datetime(train_clean['date']).dt.strftime('%Y-%m')\n"
   ]
  },
  {
   "cell_type": "code",
   "execution_count": 67,
   "metadata": {},
   "outputs": [
    {
     "data": {
      "text/plain": [
       "Text(0, 0.5, 'Revenue')"
      ]
     },
     "execution_count": 67,
     "metadata": {},
     "output_type": "execute_result"
    },
    {
     "data": {
      "image/png": "[encoded data removed]",
      "text/plain": [
       "<Figure size 432x288 with 1 Axes>"
      ]
     },
     "metadata": {
      "needs_background": "light"
     },
     "output_type": "display_data"
    }
   ],
   "source": [
    "#Analyse the Year with Revnue. We can see it linearly decreased over a year.\n",
    "\n",
    "train_clean.groupby('year')['totals.transactionRevenue'].median().plot()\n",
    "plt.xlabel('Year')\n",
    "plt.ylabel('Revenue')"
   ]
  },
  {
   "cell_type": "code",
   "execution_count": 68,
   "metadata": {},
   "outputs": [
    {
     "data": {
      "text/plain": [
       "Text(0, 0.5, 'Revenue')"
      ]
     },
     "execution_count": 68,
     "metadata": {},
     "output_type": "execute_result"
    },
    {
     "data": {
      "image/png": "[encoded data removed]",
      "text/plain": [
       "<Figure size 432x288 with 1 Axes>"
      ]
     },
     "metadata": {
      "needs_background": "light"
     },
     "output_type": "display_data"
    }
   ],
   "source": [
    "#Analyse the Month with Revnue.\n",
    "#The Revenue is at its peak during Aug 2016 and Apr 2017.\n",
    "#Revenues during holiday seasons hasn't increased.\n",
    "\n",
    "train_clean.groupby('month')['totals.transactionRevenue'].median().plot()\n",
    "plt.xlabel('month')\n",
    "plt.ylabel('Revenue')"
   ]
  },
  {
   "cell_type": "code",
   "execution_count": 109,
   "metadata": {},
   "outputs": [
    {
     "data": {
      "image/png": "[encoded data removed]",
      "text/plain": [
       "<Figure size 432x288 with 1 Axes>"
      ]
     },
     "metadata": {
      "needs_background": "light"
     },
     "output_type": "display_data"
    }
   ],
   "source": [
    "#Analyse the Vist Start Time with Revnue.\n",
    "\n",
    "\n",
    "train_clean['visitStartTime1'] = pd.to_datetime(train_clean['visitStartTime'],unit='s')\n",
    "train_clean['Time']=train_clean['visitStartTime1'].dt.strftime('%H:%M')\n",
    "\n",
    "train_clean.groupby('Time')['totals.transactionRevenue'].median().plot()\n",
    "\n",
    "plt.xlabel('visitStartTime')\n",
    "plt.ylabel('Revenue')\n",
    "plt.show()"
   ]
  },
  {
   "cell_type": "code",
   "execution_count": 108,
   "metadata": {},
   "outputs": [
    {
     "data": {
      "image/png": "[encoded data removed]",
      "text/plain": [
       "<Figure size 432x288 with 1 Axes>"
      ]
     },
     "metadata": {
      "needs_background": "light"
     },
     "output_type": "display_data"
    }
   ],
   "source": [
    "#Analyse the Vist Start Time with Revnue.\n",
    "\n",
    "\n",
    "train_clean.groupby('Time')['totals.visits'].count().plot()\n",
    "\n",
    "plt.xlabel('visitStartTime')\n",
    "plt.ylabel('Visit Hits')\n",
    "plt.show()\n",
    "\n",
    "\n",
    "\n",
    "# We are getting more hits to website during evening hours compared to morning hours\n"
   ]
  },
  {
   "cell_type": "code",
   "execution_count": 21,
   "metadata": {},
   "outputs": [
    {
     "data": {
      "text/html": [
       "<div>\n",
       "<style scoped>\n",
       "    .dataframe tbody tr th:only-of-type {\n",
       "        vertical-align: middle;\n",
       "    }\n",
       "\n",
       "    .dataframe tbody tr th {\n",
       "        vertical-align: top;\n",
       "    }\n",
       "\n",
       "    .dataframe thead th {\n",
       "        text-align: right;\n",
       "    }\n",
       "</style>\n",
       "<table border=\"1\" class=\"dataframe\">\n",
       "  <thead>\n",
       "    <tr style=\"text-align: right;\">\n",
       "      <th></th>\n",
       "      <th>Unnamed: 0</th>\n",
       "      <th>visitId</th>\n",
       "      <th>visitNumber</th>\n",
       "      <th>visitStartTime</th>\n",
       "      <th>totals.visits</th>\n",
       "      <th>totals.hits</th>\n",
       "      <th>totals.pageviews</th>\n",
       "      <th>totals.bounces</th>\n",
       "      <th>totals.newVisits</th>\n",
       "      <th>totals.transactionRevenue</th>\n",
       "      <th>trafficSource.adwordsClickInfo.page</th>\n",
       "      <th>year</th>\n",
       "    </tr>\n",
       "  </thead>\n",
       "  <tbody>\n",
       "    <tr>\n",
       "      <td>count</td>\n",
       "      <td>903653.000000</td>\n",
       "      <td>9.036530e+05</td>\n",
       "      <td>903653.000000</td>\n",
       "      <td>9.036530e+05</td>\n",
       "      <td>903653.0</td>\n",
       "      <td>903653.000000</td>\n",
       "      <td>903553.000000</td>\n",
       "      <td>450630.0</td>\n",
       "      <td>703060.0</td>\n",
       "      <td>1.151500e+04</td>\n",
       "      <td>21460.000000</td>\n",
       "      <td>903653.000000</td>\n",
       "    </tr>\n",
       "    <tr>\n",
       "      <td>mean</td>\n",
       "      <td>451826.000000</td>\n",
       "      <td>1.485007e+09</td>\n",
       "      <td>2.264897</td>\n",
       "      <td>1.485007e+09</td>\n",
       "      <td>1.0</td>\n",
       "      <td>4.596538</td>\n",
       "      <td>3.849764</td>\n",
       "      <td>1.0</td>\n",
       "      <td>1.0</td>\n",
       "      <td>1.337448e+08</td>\n",
       "      <td>1.008108</td>\n",
       "      <td>2016.517079</td>\n",
       "    </tr>\n",
       "    <tr>\n",
       "      <td>std</td>\n",
       "      <td>260862.295738</td>\n",
       "      <td>9.022124e+06</td>\n",
       "      <td>9.283735</td>\n",
       "      <td>9.022124e+06</td>\n",
       "      <td>0.0</td>\n",
       "      <td>9.641437</td>\n",
       "      <td>7.025274</td>\n",
       "      <td>0.0</td>\n",
       "      <td>0.0</td>\n",
       "      <td>4.482852e+08</td>\n",
       "      <td>0.173584</td>\n",
       "      <td>0.499708</td>\n",
       "    </tr>\n",
       "    <tr>\n",
       "      <td>min</td>\n",
       "      <td>0.000000</td>\n",
       "      <td>1.470035e+09</td>\n",
       "      <td>1.000000</td>\n",
       "      <td>1.470035e+09</td>\n",
       "      <td>1.0</td>\n",
       "      <td>1.000000</td>\n",
       "      <td>1.000000</td>\n",
       "      <td>1.0</td>\n",
       "      <td>1.0</td>\n",
       "      <td>1.000000e+04</td>\n",
       "      <td>1.000000</td>\n",
       "      <td>2016.000000</td>\n",
       "    </tr>\n",
       "    <tr>\n",
       "      <td>25%</td>\n",
       "      <td>225913.000000</td>\n",
       "      <td>1.477561e+09</td>\n",
       "      <td>1.000000</td>\n",
       "      <td>1.477561e+09</td>\n",
       "      <td>1.0</td>\n",
       "      <td>1.000000</td>\n",
       "      <td>1.000000</td>\n",
       "      <td>1.0</td>\n",
       "      <td>1.0</td>\n",
       "      <td>2.493000e+07</td>\n",
       "      <td>1.000000</td>\n",
       "      <td>2016.000000</td>\n",
       "    </tr>\n",
       "    <tr>\n",
       "      <td>50%</td>\n",
       "      <td>451826.000000</td>\n",
       "      <td>1.483949e+09</td>\n",
       "      <td>1.000000</td>\n",
       "      <td>1.483949e+09</td>\n",
       "      <td>1.0</td>\n",
       "      <td>2.000000</td>\n",
       "      <td>1.000000</td>\n",
       "      <td>1.0</td>\n",
       "      <td>1.0</td>\n",
       "      <td>4.945000e+07</td>\n",
       "      <td>1.000000</td>\n",
       "      <td>2017.000000</td>\n",
       "    </tr>\n",
       "    <tr>\n",
       "      <td>75%</td>\n",
       "      <td>677739.000000</td>\n",
       "      <td>1.492759e+09</td>\n",
       "      <td>1.000000</td>\n",
       "      <td>1.492759e+09</td>\n",
       "      <td>1.0</td>\n",
       "      <td>4.000000</td>\n",
       "      <td>4.000000</td>\n",
       "      <td>1.0</td>\n",
       "      <td>1.0</td>\n",
       "      <td>1.076550e+08</td>\n",
       "      <td>1.000000</td>\n",
       "      <td>2017.000000</td>\n",
       "    </tr>\n",
       "    <tr>\n",
       "      <td>max</td>\n",
       "      <td>903652.000000</td>\n",
       "      <td>1.501657e+09</td>\n",
       "      <td>395.000000</td>\n",
       "      <td>1.501657e+09</td>\n",
       "      <td>1.0</td>\n",
       "      <td>500.000000</td>\n",
       "      <td>469.000000</td>\n",
       "      <td>1.0</td>\n",
       "      <td>1.0</td>\n",
       "      <td>2.312950e+10</td>\n",
       "      <td>14.000000</td>\n",
       "      <td>2017.000000</td>\n",
       "    </tr>\n",
       "  </tbody>\n",
       "</table>\n",
       "</div>"
      ],
      "text/plain": [
       "          Unnamed: 0       visitId    visitNumber  visitStartTime  \\\n",
       "count  903653.000000  9.036530e+05  903653.000000    9.036530e+05   \n",
       "mean   451826.000000  1.485007e+09       2.264897    1.485007e+09   \n",
       "std    260862.295738  9.022124e+06       9.283735    9.022124e+06   \n",
       "min         0.000000  1.470035e+09       1.000000    1.470035e+09   \n",
       "25%    225913.000000  1.477561e+09       1.000000    1.477561e+09   \n",
       "50%    451826.000000  1.483949e+09       1.000000    1.483949e+09   \n",
       "75%    677739.000000  1.492759e+09       1.000000    1.492759e+09   \n",
       "max    903652.000000  1.501657e+09     395.000000    1.501657e+09   \n",
       "\n",
       "       totals.visits    totals.hits  totals.pageviews  totals.bounces  \\\n",
       "count       903653.0  903653.000000     903553.000000        450630.0   \n",
       "mean             1.0       4.596538          3.849764             1.0   \n",
       "std              0.0       9.641437          7.025274             0.0   \n",
       "min              1.0       1.000000          1.000000             1.0   \n",
       "25%              1.0       1.000000          1.000000             1.0   \n",
       "50%              1.0       2.000000          1.000000             1.0   \n",
       "75%              1.0       4.000000          4.000000             1.0   \n",
       "max              1.0     500.000000        469.000000             1.0   \n",
       "\n",
       "       totals.newVisits  totals.transactionRevenue  \\\n",
       "count          703060.0               1.151500e+04   \n",
       "mean                1.0               1.337448e+08   \n",
       "std                 0.0               4.482852e+08   \n",
       "min                 1.0               1.000000e+04   \n",
       "25%                 1.0               2.493000e+07   \n",
       "50%                 1.0               4.945000e+07   \n",
       "75%                 1.0               1.076550e+08   \n",
       "max                 1.0               2.312950e+10   \n",
       "\n",
       "       trafficSource.adwordsClickInfo.page           year  \n",
       "count                         21460.000000  903653.000000  \n",
       "mean                              1.008108    2016.517079  \n",
       "std                               0.173584       0.499708  \n",
       "min                               1.000000    2016.000000  \n",
       "25%                               1.000000    2016.000000  \n",
       "50%                               1.000000    2017.000000  \n",
       "75%                               1.000000    2017.000000  \n",
       "max                              14.000000    2017.000000  "
      ]
     },
     "execution_count": 21,
     "metadata": {},
     "output_type": "execute_result"
    }
   ],
   "source": [
    "train_clean.describe()"
   ]
  },
  {
   "cell_type": "code",
   "execution_count": 70,
   "metadata": {},
   "outputs": [
    {
     "data": {
      "text/plain": [
       "['totals.visits',\n",
       " 'totals.bounces',\n",
       " 'totals.newVisits',\n",
       " 'trafficSource.adwordsClickInfo.page',\n",
       " 'trafficSource.campaignCode']"
      ]
     },
     "execution_count": 70,
     "metadata": {},
     "output_type": "execute_result"
    }
   ],
   "source": [
    "#Discrete and Continous variable\n",
    "\n",
    "discrete_features=[feature for feature in num_features if len(train_clean[feature].unique()) <25 and feature not in ['year']+['Unnamed: 0']]\n",
    "discrete_features"
   ]
  },
  {
   "cell_type": "markdown",
   "metadata": {},
   "source": [
    "Plotting Discrete features against Revenue"
   ]
  },
  {
   "cell_type": "code",
   "execution_count": 24,
   "metadata": {
    "scrolled": true
   },
   "outputs": [
    {
     "data": {
      "image/png": "[encoded data removed]",
      "text/plain": [
       "<Figure size 432x288 with 1 Axes>"
      ]
     },
     "metadata": {
      "needs_background": "light"
     },
     "output_type": "display_data"
    },
    {
     "data": {
      "image/png": "[encoded data removed]",
      "text/plain": [
       "<Figure size 432x288 with 1 Axes>"
      ]
     },
     "metadata": {
      "needs_background": "light"
     },
     "output_type": "display_data"
    },
    {
     "data": {
      "image/png": "[encoded data removed]",
      "text/plain": [
       "<Figure size 432x288 with 1 Axes>"
      ]
     },
     "metadata": {
      "needs_background": "light"
     },
     "output_type": "display_data"
    },
    {
     "data": {
      "image/png": "[encoded data removed]",
      "text/plain": [
       "<Figure size 432x288 with 1 Axes>"
      ]
     },
     "metadata": {
      "needs_background": "light"
     },
     "output_type": "display_data"
    }
   ],
   "source": [
    "for feature in discrete_features:\n",
    "    data = train_clean.copy()\n",
    "    data.groupby(feature)['totals.transactionRevenue'].median().plot.bar()\n",
    "    plt.xlabel(feature)\n",
    "    plt.ylabel('transactionRevenue')\n",
    "    plt.title(feature)\n",
    "    plt.show()"
   ]
  },
  {
   "cell_type": "code",
   "execution_count": 25,
   "metadata": {},
   "outputs": [
    {
     "data": {
      "text/plain": [
       "['date',\n",
       " 'visitId',\n",
       " 'visitNumber',\n",
       " 'visitStartTime',\n",
       " 'totals.hits',\n",
       " 'totals.pageviews',\n",
       " 'totals.transactionRevenue']"
      ]
     },
     "execution_count": 25,
     "metadata": {},
     "output_type": "execute_result"
    }
   ],
   "source": [
    "## Continous features\n",
    "\n",
    "continous_feature=[feature for feature in num_features if feature not in discrete_features and feature not in ['year']+['Unnamed: 0']]\n",
    "continous_feature"
   ]
  },
  {
   "cell_type": "code",
   "execution_count": 32,
   "metadata": {
    "scrolled": true
   },
   "outputs": [
    {
     "name": "stdout",
     "output_type": "stream",
     "text": [
      "Number of Numerical features: 14\n"
     ]
    },
    {
     "data": {
      "text/html": [
       "<div>\n",
       "<style scoped>\n",
       "    .dataframe tbody tr th:only-of-type {\n",
       "        vertical-align: middle;\n",
       "    }\n",
       "\n",
       "    .dataframe tbody tr th {\n",
       "        vertical-align: top;\n",
       "    }\n",
       "\n",
       "    .dataframe thead th {\n",
       "        text-align: right;\n",
       "    }\n",
       "</style>\n",
       "<table border=\"1\" class=\"dataframe\">\n",
       "  <thead>\n",
       "    <tr style=\"text-align: right;\">\n",
       "      <th></th>\n",
       "      <th>Unnamed: 0</th>\n",
       "      <th>date</th>\n",
       "      <th>fullVisitorId</th>\n",
       "      <th>visitId</th>\n",
       "      <th>visitNumber</th>\n",
       "      <th>visitStartTime</th>\n",
       "      <th>totals.visits</th>\n",
       "      <th>totals.hits</th>\n",
       "      <th>totals.pageviews</th>\n",
       "      <th>totals.bounces</th>\n",
       "      <th>totals.newVisits</th>\n",
       "      <th>totals.transactionRevenue</th>\n",
       "      <th>trafficSource.adwordsClickInfo.page</th>\n",
       "      <th>trafficSource.campaignCode</th>\n",
       "    </tr>\n",
       "  </thead>\n",
       "  <tbody>\n",
       "    <tr>\n",
       "      <td>0</td>\n",
       "      <td>752</td>\n",
       "      <td>20160902</td>\n",
       "      <td>6.194190e+18</td>\n",
       "      <td>1472843572</td>\n",
       "      <td>1</td>\n",
       "      <td>1472843572</td>\n",
       "      <td>1</td>\n",
       "      <td>11</td>\n",
       "      <td>11</td>\n",
       "      <td>NaN</td>\n",
       "      <td>1.0</td>\n",
       "      <td>37860000</td>\n",
       "      <td>NaN</td>\n",
       "      <td>NaN</td>\n",
       "    </tr>\n",
       "    <tr>\n",
       "      <td>1</td>\n",
       "      <td>753</td>\n",
       "      <td>20160902</td>\n",
       "      <td>5.327170e+18</td>\n",
       "      <td>1472844906</td>\n",
       "      <td>3</td>\n",
       "      <td>1472844906</td>\n",
       "      <td>1</td>\n",
       "      <td>11</td>\n",
       "      <td>10</td>\n",
       "      <td>NaN</td>\n",
       "      <td>NaN</td>\n",
       "      <td>306670000</td>\n",
       "      <td>NaN</td>\n",
       "      <td>NaN</td>\n",
       "    </tr>\n",
       "    <tr>\n",
       "      <td>2</td>\n",
       "      <td>799</td>\n",
       "      <td>20160902</td>\n",
       "      <td>8.885050e+18</td>\n",
       "      <td>1472827393</td>\n",
       "      <td>7</td>\n",
       "      <td>1472827393</td>\n",
       "      <td>1</td>\n",
       "      <td>13</td>\n",
       "      <td>11</td>\n",
       "      <td>NaN</td>\n",
       "      <td>NaN</td>\n",
       "      <td>68030000</td>\n",
       "      <td>NaN</td>\n",
       "      <td>NaN</td>\n",
       "    </tr>\n",
       "    <tr>\n",
       "      <td>3</td>\n",
       "      <td>802</td>\n",
       "      <td>20160902</td>\n",
       "      <td>1.854680e+17</td>\n",
       "      <td>1472846398</td>\n",
       "      <td>6</td>\n",
       "      <td>1472846398</td>\n",
       "      <td>1</td>\n",
       "      <td>13</td>\n",
       "      <td>12</td>\n",
       "      <td>NaN</td>\n",
       "      <td>NaN</td>\n",
       "      <td>26250000</td>\n",
       "      <td>NaN</td>\n",
       "      <td>NaN</td>\n",
       "    </tr>\n",
       "    <tr>\n",
       "      <td>4</td>\n",
       "      <td>859</td>\n",
       "      <td>20160902</td>\n",
       "      <td>3.244890e+18</td>\n",
       "      <td>1472824817</td>\n",
       "      <td>4</td>\n",
       "      <td>1472824817</td>\n",
       "      <td>1</td>\n",
       "      <td>17</td>\n",
       "      <td>14</td>\n",
       "      <td>NaN</td>\n",
       "      <td>NaN</td>\n",
       "      <td>574150000</td>\n",
       "      <td>NaN</td>\n",
       "      <td>NaN</td>\n",
       "    </tr>\n",
       "    <tr>\n",
       "      <td>...</td>\n",
       "      <td>...</td>\n",
       "      <td>...</td>\n",
       "      <td>...</td>\n",
       "      <td>...</td>\n",
       "      <td>...</td>\n",
       "      <td>...</td>\n",
       "      <td>...</td>\n",
       "      <td>...</td>\n",
       "      <td>...</td>\n",
       "      <td>...</td>\n",
       "      <td>...</td>\n",
       "      <td>...</td>\n",
       "      <td>...</td>\n",
       "      <td>...</td>\n",
       "    </tr>\n",
       "    <tr>\n",
       "      <td>11510</td>\n",
       "      <td>903302</td>\n",
       "      <td>20170104</td>\n",
       "      <td>6.849600e+18</td>\n",
       "      <td>1483566314</td>\n",
       "      <td>10</td>\n",
       "      <td>1483566314</td>\n",
       "      <td>1</td>\n",
       "      <td>61</td>\n",
       "      <td>48</td>\n",
       "      <td>NaN</td>\n",
       "      <td>NaN</td>\n",
       "      <td>335260000</td>\n",
       "      <td>NaN</td>\n",
       "      <td>NaN</td>\n",
       "    </tr>\n",
       "    <tr>\n",
       "      <td>11511</td>\n",
       "      <td>903305</td>\n",
       "      <td>20170104</td>\n",
       "      <td>2.119870e+17</td>\n",
       "      <td>1483568879</td>\n",
       "      <td>2</td>\n",
       "      <td>1483568879</td>\n",
       "      <td>1</td>\n",
       "      <td>66</td>\n",
       "      <td>30</td>\n",
       "      <td>NaN</td>\n",
       "      <td>NaN</td>\n",
       "      <td>599950000</td>\n",
       "      <td>NaN</td>\n",
       "      <td>NaN</td>\n",
       "    </tr>\n",
       "    <tr>\n",
       "      <td>11512</td>\n",
       "      <td>903314</td>\n",
       "      <td>20170104</td>\n",
       "      <td>9.981560e+18</td>\n",
       "      <td>1483576938</td>\n",
       "      <td>1</td>\n",
       "      <td>1483576938</td>\n",
       "      <td>1</td>\n",
       "      <td>122</td>\n",
       "      <td>90</td>\n",
       "      <td>NaN</td>\n",
       "      <td>1.0</td>\n",
       "      <td>30750000</td>\n",
       "      <td>NaN</td>\n",
       "      <td>NaN</td>\n",
       "    </tr>\n",
       "    <tr>\n",
       "      <td>11513</td>\n",
       "      <td>903315</td>\n",
       "      <td>20170104</td>\n",
       "      <td>9.631260e+17</td>\n",
       "      <td>1483552674</td>\n",
       "      <td>3</td>\n",
       "      <td>1483552674</td>\n",
       "      <td>1</td>\n",
       "      <td>130</td>\n",
       "      <td>90</td>\n",
       "      <td>NaN</td>\n",
       "      <td>NaN</td>\n",
       "      <td>69390000</td>\n",
       "      <td>NaN</td>\n",
       "      <td>NaN</td>\n",
       "    </tr>\n",
       "    <tr>\n",
       "      <td>11514</td>\n",
       "      <td>903317</td>\n",
       "      <td>20170104</td>\n",
       "      <td>9.771440e+18</td>\n",
       "      <td>1483538997</td>\n",
       "      <td>12</td>\n",
       "      <td>1483538997</td>\n",
       "      <td>1</td>\n",
       "      <td>237</td>\n",
       "      <td>169</td>\n",
       "      <td>NaN</td>\n",
       "      <td>NaN</td>\n",
       "      <td>74990000</td>\n",
       "      <td>NaN</td>\n",
       "      <td>NaN</td>\n",
       "    </tr>\n",
       "  </tbody>\n",
       "</table>\n",
       "<p>11515 rows × 14 columns</p>\n",
       "</div>"
      ],
      "text/plain": [
       "       Unnamed: 0      date  fullVisitorId     visitId  visitNumber  \\\n",
       "0             752  20160902   6.194190e+18  1472843572            1   \n",
       "1             753  20160902   5.327170e+18  1472844906            3   \n",
       "2             799  20160902   8.885050e+18  1472827393            7   \n",
       "3             802  20160902   1.854680e+17  1472846398            6   \n",
       "4             859  20160902   3.244890e+18  1472824817            4   \n",
       "...           ...       ...            ...         ...          ...   \n",
       "11510      903302  20170104   6.849600e+18  1483566314           10   \n",
       "11511      903305  20170104   2.119870e+17  1483568879            2   \n",
       "11512      903314  20170104   9.981560e+18  1483576938            1   \n",
       "11513      903315  20170104   9.631260e+17  1483552674            3   \n",
       "11514      903317  20170104   9.771440e+18  1483538997           12   \n",
       "\n",
       "       visitStartTime  totals.visits  totals.hits  totals.pageviews  \\\n",
       "0          1472843572              1           11                11   \n",
       "1          1472844906              1           11                10   \n",
       "2          1472827393              1           13                11   \n",
       "3          1472846398              1           13                12   \n",
       "4          1472824817              1           17                14   \n",
       "...               ...            ...          ...               ...   \n",
       "11510      1483566314              1           61                48   \n",
       "11511      1483568879              1           66                30   \n",
       "11512      1483576938              1          122                90   \n",
       "11513      1483552674              1          130                90   \n",
       "11514      1483538997              1          237               169   \n",
       "\n",
       "       totals.bounces  totals.newVisits  totals.transactionRevenue  \\\n",
       "0                 NaN               1.0                   37860000   \n",
       "1                 NaN               NaN                  306670000   \n",
       "2                 NaN               NaN                   68030000   \n",
       "3                 NaN               NaN                   26250000   \n",
       "4                 NaN               NaN                  574150000   \n",
       "...               ...               ...                        ...   \n",
       "11510             NaN               NaN                  335260000   \n",
       "11511             NaN               NaN                  599950000   \n",
       "11512             NaN               1.0                   30750000   \n",
       "11513             NaN               NaN                   69390000   \n",
       "11514             NaN               NaN                   74990000   \n",
       "\n",
       "       trafficSource.adwordsClickInfo.page  trafficSource.campaignCode  \n",
       "0                                      NaN                         NaN  \n",
       "1                                      NaN                         NaN  \n",
       "2                                      NaN                         NaN  \n",
       "3                                      NaN                         NaN  \n",
       "4                                      NaN                         NaN  \n",
       "...                                    ...                         ...  \n",
       "11510                                  NaN                         NaN  \n",
       "11511                                  NaN                         NaN  \n",
       "11512                                  NaN                         NaN  \n",
       "11513                                  NaN                         NaN  \n",
       "11514                                  NaN                         NaN  \n",
       "\n",
       "[11515 rows x 14 columns]"
      ]
     },
     "execution_count": 32,
     "metadata": {},
     "output_type": "execute_result"
    }
   ],
   "source": [
    "# Numerical values\n",
    "num_features=[feature for feature in train_not_null.columns if train_not_null[feature].dtypes in  ('float64','int64') ]\n",
    "print (\"Number of Numerical features:\", len(num_features))\n",
    "\n",
    "train_not_null[num_features]\n"
   ]
  },
  {
   "cell_type": "code",
   "execution_count": 124,
   "metadata": {},
   "outputs": [
    {
     "data": {
      "text/plain": [
       "['channelGrouping',\n",
       " 'socialEngagementType',\n",
       " 'device.browser',\n",
       " 'device.browserVersion',\n",
       " 'device.browserSize',\n",
       " 'device.operatingSystem',\n",
       " 'device.operatingSystemVersion',\n",
       " 'device.mobileDeviceBranding',\n",
       " 'device.mobileDeviceModel',\n",
       " 'device.mobileInputSelector',\n",
       " 'device.mobileDeviceInfo',\n",
       " 'device.mobileDeviceMarketingName',\n",
       " 'device.flashVersion',\n",
       " 'device.language',\n",
       " 'device.screenColors',\n",
       " 'device.screenResolution',\n",
       " 'device.deviceCategory',\n",
       " 'geoNetwork.continent',\n",
       " 'geoNetwork.subContinent',\n",
       " 'geoNetwork.country',\n",
       " 'geoNetwork.region',\n",
       " 'geoNetwork.metro',\n",
       " 'geoNetwork.cityId',\n",
       " 'geoNetwork.latitude',\n",
       " 'geoNetwork.longitude',\n",
       " 'geoNetwork.networkLocation',\n",
       " 'trafficSource.campaign',\n",
       " 'trafficSource.source',\n",
       " 'trafficSource.medium',\n",
       " 'trafficSource.keyword',\n",
       " 'trafficSource.adwordsClickInfo.criteriaParameters',\n",
       " 'trafficSource.isTrueDirect',\n",
       " 'trafficSource.referralPath']"
      ]
     },
     "execution_count": 124,
     "metadata": {},
     "output_type": "execute_result"
    }
   ],
   "source": [
    "#Categorical varibles\n",
    "\n",
    "categorical_features=[features for features in train_clean.columns if train_clean[features].dtypes=='O' and features not in ('sessionId','geoNetwork.networkDomain','trafficSource.adwordsClickInfo.gclId','geoNetwork.city','fullVisitorId','trafficSource.adwordsClickInfo.page','trafficSource.adwordsClickInfo.slot','trafficSource.adwordsClickInfo.gclId','trafficSource.adwordsClickInfo.adNetworkType','trafficSource.adwordsClickInfo.isVideoAd','trafficSource.adContent','trafficSource.campaignCode','month','Time')]\n",
    "categorical_features"
   ]
  },
  {
   "cell_type": "code",
   "execution_count": 125,
   "metadata": {
    "scrolled": true
   },
   "outputs": [
    {
     "data": {
      "text/html": [
       "<div>\n",
       "<style scoped>\n",
       "    .dataframe tbody tr th:only-of-type {\n",
       "        vertical-align: middle;\n",
       "    }\n",
       "\n",
       "    .dataframe tbody tr th {\n",
       "        vertical-align: top;\n",
       "    }\n",
       "\n",
       "    .dataframe thead th {\n",
       "        text-align: right;\n",
       "    }\n",
       "</style>\n",
       "<table border=\"1\" class=\"dataframe\">\n",
       "  <thead>\n",
       "    <tr style=\"text-align: right;\">\n",
       "      <th></th>\n",
       "      <th>channelGrouping</th>\n",
       "      <th>socialEngagementType</th>\n",
       "      <th>device.browser</th>\n",
       "      <th>device.browserVersion</th>\n",
       "      <th>device.browserSize</th>\n",
       "      <th>device.operatingSystem</th>\n",
       "      <th>device.operatingSystemVersion</th>\n",
       "      <th>device.mobileDeviceBranding</th>\n",
       "      <th>device.mobileDeviceModel</th>\n",
       "      <th>device.mobileInputSelector</th>\n",
       "      <th>...</th>\n",
       "      <th>geoNetwork.latitude</th>\n",
       "      <th>geoNetwork.longitude</th>\n",
       "      <th>geoNetwork.networkLocation</th>\n",
       "      <th>trafficSource.campaign</th>\n",
       "      <th>trafficSource.source</th>\n",
       "      <th>trafficSource.medium</th>\n",
       "      <th>trafficSource.keyword</th>\n",
       "      <th>trafficSource.adwordsClickInfo.criteriaParameters</th>\n",
       "      <th>trafficSource.isTrueDirect</th>\n",
       "      <th>trafficSource.referralPath</th>\n",
       "    </tr>\n",
       "  </thead>\n",
       "  <tbody>\n",
       "    <tr>\n",
       "      <td>0</td>\n",
       "      <td>Organic Search</td>\n",
       "      <td>Not Socially Engaged</td>\n",
       "      <td>Chrome</td>\n",
       "      <td>not available in demo dataset</td>\n",
       "      <td>not available in demo dataset</td>\n",
       "      <td>Windows</td>\n",
       "      <td>not available in demo dataset</td>\n",
       "      <td>not available in demo dataset</td>\n",
       "      <td>not available in demo dataset</td>\n",
       "      <td>not available in demo dataset</td>\n",
       "      <td>...</td>\n",
       "      <td>not available in demo dataset</td>\n",
       "      <td>not available in demo dataset</td>\n",
       "      <td>not available in demo dataset</td>\n",
       "      <td>(not set)</td>\n",
       "      <td>google</td>\n",
       "      <td>organic</td>\n",
       "      <td>(not provided)</td>\n",
       "      <td>not available in demo dataset</td>\n",
       "      <td>NaN</td>\n",
       "      <td>NaN</td>\n",
       "    </tr>\n",
       "    <tr>\n",
       "      <td>1</td>\n",
       "      <td>Organic Search</td>\n",
       "      <td>Not Socially Engaged</td>\n",
       "      <td>Firefox</td>\n",
       "      <td>not available in demo dataset</td>\n",
       "      <td>not available in demo dataset</td>\n",
       "      <td>Macintosh</td>\n",
       "      <td>not available in demo dataset</td>\n",
       "      <td>not available in demo dataset</td>\n",
       "      <td>not available in demo dataset</td>\n",
       "      <td>not available in demo dataset</td>\n",
       "      <td>...</td>\n",
       "      <td>not available in demo dataset</td>\n",
       "      <td>not available in demo dataset</td>\n",
       "      <td>not available in demo dataset</td>\n",
       "      <td>(not set)</td>\n",
       "      <td>google</td>\n",
       "      <td>organic</td>\n",
       "      <td>(not provided)</td>\n",
       "      <td>not available in demo dataset</td>\n",
       "      <td>NaN</td>\n",
       "      <td>NaN</td>\n",
       "    </tr>\n",
       "    <tr>\n",
       "      <td>2</td>\n",
       "      <td>Organic Search</td>\n",
       "      <td>Not Socially Engaged</td>\n",
       "      <td>Chrome</td>\n",
       "      <td>not available in demo dataset</td>\n",
       "      <td>not available in demo dataset</td>\n",
       "      <td>Windows</td>\n",
       "      <td>not available in demo dataset</td>\n",
       "      <td>not available in demo dataset</td>\n",
       "      <td>not available in demo dataset</td>\n",
       "      <td>not available in demo dataset</td>\n",
       "      <td>...</td>\n",
       "      <td>not available in demo dataset</td>\n",
       "      <td>not available in demo dataset</td>\n",
       "      <td>not available in demo dataset</td>\n",
       "      <td>(not set)</td>\n",
       "      <td>google</td>\n",
       "      <td>organic</td>\n",
       "      <td>(not provided)</td>\n",
       "      <td>not available in demo dataset</td>\n",
       "      <td>NaN</td>\n",
       "      <td>NaN</td>\n",
       "    </tr>\n",
       "    <tr>\n",
       "      <td>3</td>\n",
       "      <td>Organic Search</td>\n",
       "      <td>Not Socially Engaged</td>\n",
       "      <td>UC Browser</td>\n",
       "      <td>not available in demo dataset</td>\n",
       "      <td>not available in demo dataset</td>\n",
       "      <td>Linux</td>\n",
       "      <td>not available in demo dataset</td>\n",
       "      <td>not available in demo dataset</td>\n",
       "      <td>not available in demo dataset</td>\n",
       "      <td>not available in demo dataset</td>\n",
       "      <td>...</td>\n",
       "      <td>not available in demo dataset</td>\n",
       "      <td>not available in demo dataset</td>\n",
       "      <td>not available in demo dataset</td>\n",
       "      <td>(not set)</td>\n",
       "      <td>google</td>\n",
       "      <td>organic</td>\n",
       "      <td>google + online</td>\n",
       "      <td>not available in demo dataset</td>\n",
       "      <td>NaN</td>\n",
       "      <td>NaN</td>\n",
       "    </tr>\n",
       "    <tr>\n",
       "      <td>4</td>\n",
       "      <td>Organic Search</td>\n",
       "      <td>Not Socially Engaged</td>\n",
       "      <td>Chrome</td>\n",
       "      <td>not available in demo dataset</td>\n",
       "      <td>not available in demo dataset</td>\n",
       "      <td>Android</td>\n",
       "      <td>not available in demo dataset</td>\n",
       "      <td>not available in demo dataset</td>\n",
       "      <td>not available in demo dataset</td>\n",
       "      <td>not available in demo dataset</td>\n",
       "      <td>...</td>\n",
       "      <td>not available in demo dataset</td>\n",
       "      <td>not available in demo dataset</td>\n",
       "      <td>not available in demo dataset</td>\n",
       "      <td>(not set)</td>\n",
       "      <td>google</td>\n",
       "      <td>organic</td>\n",
       "      <td>(not provided)</td>\n",
       "      <td>not available in demo dataset</td>\n",
       "      <td>True</td>\n",
       "      <td>NaN</td>\n",
       "    </tr>\n",
       "  </tbody>\n",
       "</table>\n",
       "<p>5 rows × 33 columns</p>\n",
       "</div>"
      ],
      "text/plain": [
       "  channelGrouping  socialEngagementType device.browser  \\\n",
       "0  Organic Search  Not Socially Engaged         Chrome   \n",
       "1  Organic Search  Not Socially Engaged        Firefox   \n",
       "2  Organic Search  Not Socially Engaged         Chrome   \n",
       "3  Organic Search  Not Socially Engaged     UC Browser   \n",
       "4  Organic Search  Not Socially Engaged         Chrome   \n",
       "\n",
       "           device.browserVersion             device.browserSize  \\\n",
       "0  not available in demo dataset  not available in demo dataset   \n",
       "1  not available in demo dataset  not available in demo dataset   \n",
       "2  not available in demo dataset  not available in demo dataset   \n",
       "3  not available in demo dataset  not available in demo dataset   \n",
       "4  not available in demo dataset  not available in demo dataset   \n",
       "\n",
       "  device.operatingSystem  device.operatingSystemVersion  \\\n",
       "0                Windows  not available in demo dataset   \n",
       "1              Macintosh  not available in demo dataset   \n",
       "2                Windows  not available in demo dataset   \n",
       "3                  Linux  not available in demo dataset   \n",
       "4                Android  not available in demo dataset   \n",
       "\n",
       "     device.mobileDeviceBranding       device.mobileDeviceModel  \\\n",
       "0  not available in demo dataset  not available in demo dataset   \n",
       "1  not available in demo dataset  not available in demo dataset   \n",
       "2  not available in demo dataset  not available in demo dataset   \n",
       "3  not available in demo dataset  not available in demo dataset   \n",
       "4  not available in demo dataset  not available in demo dataset   \n",
       "\n",
       "      device.mobileInputSelector  ...            geoNetwork.latitude  \\\n",
       "0  not available in demo dataset  ...  not available in demo dataset   \n",
       "1  not available in demo dataset  ...  not available in demo dataset   \n",
       "2  not available in demo dataset  ...  not available in demo dataset   \n",
       "3  not available in demo dataset  ...  not available in demo dataset   \n",
       "4  not available in demo dataset  ...  not available in demo dataset   \n",
       "\n",
       "            geoNetwork.longitude     geoNetwork.networkLocation  \\\n",
       "0  not available in demo dataset  not available in demo dataset   \n",
       "1  not available in demo dataset  not available in demo dataset   \n",
       "2  not available in demo dataset  not available in demo dataset   \n",
       "3  not available in demo dataset  not available in demo dataset   \n",
       "4  not available in demo dataset  not available in demo dataset   \n",
       "\n",
       "  trafficSource.campaign trafficSource.source trafficSource.medium  \\\n",
       "0              (not set)               google              organic   \n",
       "1              (not set)               google              organic   \n",
       "2              (not set)               google              organic   \n",
       "3              (not set)               google              organic   \n",
       "4              (not set)               google              organic   \n",
       "\n",
       "  trafficSource.keyword trafficSource.adwordsClickInfo.criteriaParameters  \\\n",
       "0        (not provided)                     not available in demo dataset   \n",
       "1        (not provided)                     not available in demo dataset   \n",
       "2        (not provided)                     not available in demo dataset   \n",
       "3       google + online                     not available in demo dataset   \n",
       "4        (not provided)                     not available in demo dataset   \n",
       "\n",
       "  trafficSource.isTrueDirect trafficSource.referralPath  \n",
       "0                        NaN                        NaN  \n",
       "1                        NaN                        NaN  \n",
       "2                        NaN                        NaN  \n",
       "3                        NaN                        NaN  \n",
       "4                       True                        NaN  \n",
       "\n",
       "[5 rows x 33 columns]"
      ]
     },
     "execution_count": 125,
     "metadata": {},
     "output_type": "execute_result"
    }
   ],
   "source": [
    "train_clean[categorical_features].head()"
   ]
  },
  {
   "cell_type": "code",
   "execution_count": 126,
   "metadata": {},
   "outputs": [
    {
     "name": "stdout",
     "output_type": "stream",
     "text": [
      "The feature is channelGrouping and number of categories are 8\n",
      "The feature is socialEngagementType and number of categories are 1\n",
      "The feature is device.browser and number of categories are 54\n",
      "The feature is device.browserVersion and number of categories are 1\n",
      "The feature is device.browserSize and number of categories are 1\n",
      "The feature is device.operatingSystem and number of categories are 20\n",
      "The feature is device.operatingSystemVersion and number of categories are 1\n",
      "The feature is device.mobileDeviceBranding and number of categories are 1\n",
      "The feature is device.mobileDeviceModel and number of categories are 1\n",
      "The feature is device.mobileInputSelector and number of categories are 1\n",
      "The feature is device.mobileDeviceInfo and number of categories are 1\n",
      "The feature is device.mobileDeviceMarketingName and number of categories are 1\n",
      "The feature is device.flashVersion and number of categories are 1\n",
      "The feature is device.language and number of categories are 1\n",
      "The feature is device.screenColors and number of categories are 1\n",
      "The feature is device.screenResolution and number of categories are 1\n",
      "The feature is device.deviceCategory and number of categories are 3\n",
      "The feature is geoNetwork.continent and number of categories are 6\n",
      "The feature is geoNetwork.subContinent and number of categories are 23\n",
      "The feature is geoNetwork.country and number of categories are 222\n",
      "The feature is geoNetwork.region and number of categories are 376\n",
      "The feature is geoNetwork.metro and number of categories are 94\n",
      "The feature is geoNetwork.cityId and number of categories are 1\n",
      "The feature is geoNetwork.latitude and number of categories are 1\n",
      "The feature is geoNetwork.longitude and number of categories are 1\n",
      "The feature is geoNetwork.networkLocation and number of categories are 1\n",
      "The feature is trafficSource.campaign and number of categories are 10\n",
      "The feature is trafficSource.source and number of categories are 380\n",
      "The feature is trafficSource.medium and number of categories are 7\n",
      "The feature is trafficSource.keyword and number of categories are 3660\n",
      "The feature is trafficSource.adwordsClickInfo.criteriaParameters and number of categories are 1\n",
      "The feature is trafficSource.isTrueDirect and number of categories are 2\n",
      "The feature is trafficSource.referralPath and number of categories are 1476\n"
     ]
    }
   ],
   "source": [
    "for feature in categorical_features:\n",
    "    print('The feature is {} and number of categories are {}'.format(feature,len(train_clean[feature].unique())))"
   ]
  },
  {
   "cell_type": "code",
   "execution_count": 129,
   "metadata": {
    "scrolled": false
   },
   "outputs": [
    {
     "data": {
      "image/png": "[encoded data removed]",
      "text/plain": [
       "<Figure size 432x288 with 1 Axes>"
      ]
     },
     "metadata": {
      "needs_background": "light"
     },
     "output_type": "display_data"
    },
    {
     "data": {
      "image/png": "[encoded data removed]",
      "text/plain": [
       "<Figure size 432x288 with 1 Axes>"
      ]
     },
     "metadata": {
      "needs_background": "light"
     },
     "output_type": "display_data"
    },
    {
     "data": {
      "image/png": "[encoded data removed]",
      "text/plain": [
       "<Figure size 432x288 with 1 Axes>"
      ]
     },
     "metadata": {
      "needs_background": "light"
     },
     "output_type": "display_data"
    },
    {
     "data": {
      "image/png": "[encoded data removed]",
      "text/plain": [
       "<Figure size 432x288 with 1 Axes>"
      ]
     },
     "metadata": {
      "needs_background": "light"
     },
     "output_type": "display_data"
    },
    {
     "data": {
      "image/png": "[encoded data removed]",
      "text/plain": [
       "<Figure size 432x288 with 1 Axes>"
      ]
     },
     "metadata": {
      "needs_background": "light"
     },
     "output_type": "display_data"
    },
    {
     "data": {
      "image/png": "[encoded data removed]",
      "text/plain": [
       "<Figure size 432x288 with 1 Axes>"
      ]
     },
     "metadata": {
      "needs_background": "light"
     },
     "output_type": "display_data"
    },
    {
     "data": {
      "image/png": "[encoded data removed]",
      "text/plain": [
       "<Figure size 432x288 with 1 Axes>"
      ]
     },
     "metadata": {
      "needs_background": "light"
     },
     "output_type": "display_data"
    }
   ],
   "source": [
    "#Relationship betweem categorical features and Revenue\n",
    "categorical_features=['channelGrouping','device.operatingSystem','device.deviceCategory', 'geoNetwork.continent', 'geoNetwork.subContinent', 'trafficSource.campaign', 'trafficSource.medium']\n",
    "\n",
    "for feature in categorical_features:\n",
    "    data=train_clean.copy()\n",
    "    data.groupby(feature)['totals.transactionRevenue'].median().plot.bar()\n",
    "    plt.xlabel(feature)\n",
    "    plt.ylabel('transactionRevenue')\n",
    "    plt.title(feature)\n",
    "    plt.show()"
   ]
  },
  {
   "cell_type": "markdown",
   "metadata": {},
   "source": [
    "# Finding/Insights from EDA task"
   ]
  },
  {
   "cell_type": "code",
   "execution_count": 52,
   "metadata": {},
   "outputs": [],
   "source": [
    "# OBESERVATION1: Target variable (Transaction Revenue) has 0.99% missing values. \n",
    "# OBESERVATION2: Total 9 features have more than 90% missing, we can drop these columns during Data processing.\n",
    "# OBESERVATION3: Transaction Revenue vs Year plot is linearly decreasing.\n",
    "# OBESERVATION4: Transaction Revenue vs Month plot gives below findings:\n",
    "                    #a. Revenue is at its peak during Aug 2016 and Apr 2017.\n",
    "                    #b. Revenues during holiday seasons hasn't increased.\n",
    "\n",
    "# OBESERVATION5: We are getting more hits to website during evening hours compared to morning hours. \n",
    "                #However, more revenue generated during Morning hours.\n",
    "\n",
    "# OBESERVATION6: Highest revenue were generated by Display Ads by plotting Revenue against Channel Grouping.\n",
    "# OBESERVATION7: Highest revenue were generated by Desktops by plotting Revenue against Device Category.\n",
    "# OBESERVATION7: Africa stands Highest in producing revenue by plotting Revenue against Continents/Subcontinets.\n",
    "\n",
    "\n",
    "\n",
    "\n"
   ]
  },
  {
   "cell_type": "code",
   "execution_count": null,
   "metadata": {},
   "outputs": [],
   "source": []
  },
  {
   "cell_type": "code",
   "execution_count": null,
   "metadata": {},
   "outputs": [],
   "source": []
  },
  {
   "cell_type": "code",
   "execution_count": null,
   "metadata": {},
   "outputs": [],
   "source": []
  }
 ],
 "metadata": {
  "kernelspec": {
   "display_name": "Python 3",
   "language": "python",
   "name": "python3"
  },
  "language_info": {
   "codemirror_mode": {
    "name": "ipython",
    "version": 3
   },
   "file_extension": ".py",
   "mimetype": "text/x-python",
   "name": "python",
   "nbconvert_exporter": "python",
   "pygments_lexer": "ipython3",
   "version": "3.7.4"
  }
 },
 "nbformat": 4,
 "nbformat_minor": 2
}
