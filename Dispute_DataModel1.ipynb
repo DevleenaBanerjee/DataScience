{
 "cells": [
  {
   "cell_type": "code",
   "execution_count": 1,
   "metadata": {},
   "outputs": [],
   "source": [
    "import pandas as pd\n",
    "import numpy as np\n",
    "import matplotlib.pyplot as plt\n",
    "import seaborn as sns\n",
    "%matplotlib inline"
   ]
  },
  {
   "cell_type": "code",
   "execution_count": 2,
   "metadata": {},
   "outputs": [],
   "source": [
    "#Load Dataset\n",
    "loadDF = pd.read_csv(\"Dispute_Claims.csv\")"
   ]
  },
  {
   "cell_type": "code",
   "execution_count": 3,
   "metadata": {},
   "outputs": [
    {
     "data": {
      "text/plain": [
       "(929, 15)"
      ]
     },
     "execution_count": 3,
     "metadata": {},
     "output_type": "execute_result"
    }
   ],
   "source": [
    "#total row and column\n",
    "rowcol=loadDF.shape\n",
    "rowcol"
   ]
  },
  {
   "cell_type": "code",
   "execution_count": 4,
   "metadata": {},
   "outputs": [
    {
     "name": "stdout",
     "output_type": "stream",
     "text": [
      "<class 'pandas.core.frame.DataFrame'>\n",
      "RangeIndex: 929 entries, 0 to 928\n",
      "Data columns (total 15 columns):\n",
      " #   Column                              Non-Null Count  Dtype \n",
      "---  ------                              --------------  ----- \n",
      " 0    btch_id                            929 non-null    object\n",
      " 1    appl_nm                            929 non-null    object\n",
      " 2    obj_nm                             929 non-null    object\n",
      " 3    dta_lyr_nm                         929 non-null    object\n",
      " 4    jb_stts_cd                         929 non-null    object\n",
      " 5    jb_cmpltn_ts                       929 non-null    object\n",
      " 6    ld_ts                              929 non-null    object\n",
      " 7    src_rec_qty                        929 non-null    int64 \n",
      " 8    tgt_rec_qty                        929 non-null    int64 \n",
      " 9    err_rec_qty                        929 non-null    int64 \n",
      " 10   crtd_by_nm                         929 non-null    object\n",
      " 11   jb_strt_ts                         929 non-null    object\n",
      " 12   jb_durtn_tm_ss                     929 non-null    int64 \n",
      " 13   fl_nm                              929 non-null    object\n",
      " 14   sys_btch_nr                        929 non-null    object\n",
      "dtypes: int64(4), object(11)\n",
      "memory usage: 69.0+ KB\n"
     ]
    }
   ],
   "source": [
    "#column levwl datatype\n",
    "loadDF.info()"
   ]
  },
  {
   "cell_type": "code",
   "execution_count": 5,
   "metadata": {},
   "outputs": [
    {
     "data": {
      "text/html": [
       "<div>\n",
       "<style scoped>\n",
       "    .dataframe tbody tr th:only-of-type {\n",
       "        vertical-align: middle;\n",
       "    }\n",
       "\n",
       "    .dataframe tbody tr th {\n",
       "        vertical-align: top;\n",
       "    }\n",
       "\n",
       "    .dataframe thead th {\n",
       "        text-align: right;\n",
       "    }\n",
       "</style>\n",
       "<table border=\"1\" class=\"dataframe\">\n",
       "  <thead>\n",
       "    <tr style=\"text-align: right;\">\n",
       "      <th></th>\n",
       "      <th>btch_id</th>\n",
       "      <th>appl_nm</th>\n",
       "      <th>obj_nm</th>\n",
       "      <th>dta_lyr_nm</th>\n",
       "      <th>jb_stts_cd</th>\n",
       "      <th>jb_cmpltn_ts</th>\n",
       "      <th>ld_ts</th>\n",
       "      <th>src_rec_qty</th>\n",
       "      <th>tgt_rec_qty</th>\n",
       "      <th>err_rec_qty</th>\n",
       "      <th>crtd_by_nm</th>\n",
       "      <th>jb_strt_ts</th>\n",
       "      <th>jb_durtn_tm_ss</th>\n",
       "      <th>fl_nm</th>\n",
       "      <th>sys_btch_nr</th>\n",
       "    </tr>\n",
       "  </thead>\n",
       "  <tbody>\n",
       "    <tr>\n",
       "      <th>698</th>\n",
       "      <td>EA_2.3-EAI3912_EA_20200730100138</td>\n",
       "      <td>job_EA_loadNonConfigJSON</td>\n",
       "      <td>dispute_histl_dta</td>\n",
       "      <td>hist_ctrl</td>\n",
       "      <td>success</td>\n",
       "      <td>2020-07-30 10:03:18.000</td>\n",
       "      <td>2020-07-29 23:25:00.384</td>\n",
       "      <td>99</td>\n",
       "      <td>0</td>\n",
       "      <td>0</td>\n",
       "      <td>srvc_nextgen_hpro</td>\n",
       "      <td>2020-07-30 10:02:11.000</td>\n",
       "      <td>67</td>\n",
       "      <td></td>\n",
       "      <td>EA_2.3-EAI3912_EA</td>\n",
       "    </tr>\n",
       "    <tr>\n",
       "      <th>294</th>\n",
       "      <td>EA_2.3-EAI3912_EA_20200728113029</td>\n",
       "      <td>job_EA_loadNonConfigJSON</td>\n",
       "      <td>dispute_histl_dta</td>\n",
       "      <td>hist_ctrl</td>\n",
       "      <td>success</td>\n",
       "      <td>2020-07-28 11:32:16.000</td>\n",
       "      <td>2020-07-28 03:10:03.291</td>\n",
       "      <td>739</td>\n",
       "      <td>0</td>\n",
       "      <td>0</td>\n",
       "      <td>srvc_nextgen_hpro</td>\n",
       "      <td>2020-07-28 11:31:03.000</td>\n",
       "      <td>73</td>\n",
       "      <td></td>\n",
       "      <td>EA_2.3-EAI3912_EA</td>\n",
       "    </tr>\n",
       "    <tr>\n",
       "      <th>493</th>\n",
       "      <td>EA_2.3-EAI3912_EA_20200729101524</td>\n",
       "      <td>job_EA_loadNonConfigJSON</td>\n",
       "      <td>dispute_histl_dta</td>\n",
       "      <td>hist_rw</td>\n",
       "      <td>success</td>\n",
       "      <td>2020-07-29 10:18:51.000</td>\n",
       "      <td>2020-07-28 21:25:00.276</td>\n",
       "      <td>191</td>\n",
       "      <td>0</td>\n",
       "      <td>0</td>\n",
       "      <td>srvc_nextgen_hpro</td>\n",
       "      <td>2020-07-29 10:15:56.000</td>\n",
       "      <td>175</td>\n",
       "      <td></td>\n",
       "      <td>EA_2.3-EAI3912_EA</td>\n",
       "    </tr>\n",
       "    <tr>\n",
       "      <th>756</th>\n",
       "      <td>EA_2.3-EAI3912_EA_20200730164727</td>\n",
       "      <td>job_EA_loadNonConfigJSON</td>\n",
       "      <td>dispute_histl_dta</td>\n",
       "      <td>hist_ctrl</td>\n",
       "      <td>success</td>\n",
       "      <td>2020-07-30 16:50:01.000</td>\n",
       "      <td>2020-07-30 16:20:00.352</td>\n",
       "      <td>5642</td>\n",
       "      <td>0</td>\n",
       "      <td>0</td>\n",
       "      <td>srvc_nextgen_hpro</td>\n",
       "      <td>2020-07-30 16:48:12.000</td>\n",
       "      <td>109</td>\n",
       "      <td></td>\n",
       "      <td>EA_2.3-EAI3912_EA</td>\n",
       "    </tr>\n",
       "    <tr>\n",
       "      <th>842</th>\n",
       "      <td>EA_2.3-EAI3912_EA_20200731033031</td>\n",
       "      <td>job_EA_loadNonConfigJSON</td>\n",
       "      <td>dispute_histl_dta</td>\n",
       "      <td>hist_ctrl</td>\n",
       "      <td>success</td>\n",
       "      <td>2020-07-31 03:33:01.000</td>\n",
       "      <td>2020-07-30 16:20:00.352</td>\n",
       "      <td>5642</td>\n",
       "      <td>0</td>\n",
       "      <td>0</td>\n",
       "      <td>srvc_nextgen_hpro</td>\n",
       "      <td>2020-07-31 03:31:03.000</td>\n",
       "      <td>118</td>\n",
       "      <td></td>\n",
       "      <td>EA_2.3-EAI3912_EA</td>\n",
       "    </tr>\n",
       "  </tbody>\n",
       "</table>\n",
       "</div>"
      ],
      "text/plain": [
       "      btch_id                             appl_nm                    \\\n",
       "698   EA_2.3-EAI3912_EA_20200730100138    job_EA_loadNonConfigJSON    \n",
       "294   EA_2.3-EAI3912_EA_20200728113029    job_EA_loadNonConfigJSON    \n",
       "493   EA_2.3-EAI3912_EA_20200729101524    job_EA_loadNonConfigJSON    \n",
       "756   EA_2.3-EAI3912_EA_20200730164727    job_EA_loadNonConfigJSON    \n",
       "842   EA_2.3-EAI3912_EA_20200731033031    job_EA_loadNonConfigJSON    \n",
       "\n",
       "      obj_nm               dta_lyr_nm      jb_stts_cd   \\\n",
       "698   dispute_histl_dta    hist_ctrl       success       \n",
       "294   dispute_histl_dta    hist_ctrl       success       \n",
       "493   dispute_histl_dta    hist_rw         success       \n",
       "756   dispute_histl_dta    hist_ctrl       success       \n",
       "842   dispute_histl_dta    hist_ctrl       success       \n",
       "\n",
       "      jb_cmpltn_ts               ld_ts                      src_rec_qty   \\\n",
       "698   2020-07-30 10:03:18.000    2020-07-29 23:25:00.384              99   \n",
       "294   2020-07-28 11:32:16.000    2020-07-28 03:10:03.291             739   \n",
       "493   2020-07-29 10:18:51.000    2020-07-28 21:25:00.276             191   \n",
       "756   2020-07-30 16:50:01.000    2020-07-30 16:20:00.352            5642   \n",
       "842   2020-07-31 03:33:01.000    2020-07-30 16:20:00.352            5642   \n",
       "\n",
       "      tgt_rec_qty    err_rec_qty    crtd_by_nm          \\\n",
       "698              0              0   srvc_nextgen_hpro    \n",
       "294              0              0   srvc_nextgen_hpro    \n",
       "493              0              0   srvc_nextgen_hpro    \n",
       "756              0              0   srvc_nextgen_hpro    \n",
       "842              0              0   srvc_nextgen_hpro    \n",
       "\n",
       "      jb_strt_ts                 jb_durtn_tm_ss    fl_nm    sys_btch_nr         \n",
       "698   2020-07-30 10:02:11.000                 67            EA_2.3-EAI3912_EA   \n",
       "294   2020-07-28 11:31:03.000                 73            EA_2.3-EAI3912_EA   \n",
       "493   2020-07-29 10:15:56.000                175            EA_2.3-EAI3912_EA   \n",
       "756   2020-07-30 16:48:12.000                109            EA_2.3-EAI3912_EA   \n",
       "842   2020-07-31 03:31:03.000                118            EA_2.3-EAI3912_EA   "
      ]
     },
     "execution_count": 5,
     "metadata": {},
     "output_type": "execute_result"
    }
   ],
   "source": [
    "#sample dataframe\n",
    "loadDF.sample(5)"
   ]
  },
  {
   "cell_type": "code",
   "execution_count": 6,
   "metadata": {},
   "outputs": [
    {
     "data": {
      "text/html": [
       "<div>\n",
       "<style scoped>\n",
       "    .dataframe tbody tr th:only-of-type {\n",
       "        vertical-align: middle;\n",
       "    }\n",
       "\n",
       "    .dataframe tbody tr th {\n",
       "        vertical-align: top;\n",
       "    }\n",
       "\n",
       "    .dataframe thead th {\n",
       "        text-align: right;\n",
       "    }\n",
       "</style>\n",
       "<table border=\"1\" class=\"dataframe\">\n",
       "  <thead>\n",
       "    <tr style=\"text-align: right;\">\n",
       "      <th></th>\n",
       "      <th>dta_lyr_nm</th>\n",
       "      <th>jb_stts_cd</th>\n",
       "      <th>src_rec_qty</th>\n",
       "      <th>tgt_rec_qty</th>\n",
       "      <th>err_rec_qty</th>\n",
       "      <th>jb_durtn_tm_ss</th>\n",
       "    </tr>\n",
       "  </thead>\n",
       "  <tbody>\n",
       "    <tr>\n",
       "      <th>693</th>\n",
       "      <td>hist_rw</td>\n",
       "      <td>success</td>\n",
       "      <td>99</td>\n",
       "      <td>0</td>\n",
       "      <td>0</td>\n",
       "      <td>157</td>\n",
       "    </tr>\n",
       "    <tr>\n",
       "      <th>699</th>\n",
       "      <td>hist_rw</td>\n",
       "      <td>success</td>\n",
       "      <td>99</td>\n",
       "      <td>0</td>\n",
       "      <td>0</td>\n",
       "      <td>129</td>\n",
       "    </tr>\n",
       "    <tr>\n",
       "      <th>447</th>\n",
       "      <td>hist_rw</td>\n",
       "      <td>success</td>\n",
       "      <td>191</td>\n",
       "      <td>0</td>\n",
       "      <td>0</td>\n",
       "      <td>146</td>\n",
       "    </tr>\n",
       "    <tr>\n",
       "      <th>17</th>\n",
       "      <td>hist_rw</td>\n",
       "      <td>success</td>\n",
       "      <td>82</td>\n",
       "      <td>0</td>\n",
       "      <td>0</td>\n",
       "      <td>139</td>\n",
       "    </tr>\n",
       "    <tr>\n",
       "      <th>420</th>\n",
       "      <td>hist_ctrl</td>\n",
       "      <td>success</td>\n",
       "      <td>191</td>\n",
       "      <td>0</td>\n",
       "      <td>0</td>\n",
       "      <td>78</td>\n",
       "    </tr>\n",
       "  </tbody>\n",
       "</table>\n",
       "</div>"
      ],
      "text/plain": [
       "         dta_lyr_nm    jb_stts_cd  src_rec_qty  tgt_rec_qty  err_rec_qty  \\\n",
       "693   hist_rw         success               99            0            0   \n",
       "699   hist_rw         success               99            0            0   \n",
       "447   hist_rw         success              191            0            0   \n",
       "17    hist_rw         success               82            0            0   \n",
       "420   hist_ctrl       success              191            0            0   \n",
       "\n",
       "     jb_durtn_tm_ss  \n",
       "693             157  \n",
       "699             129  \n",
       "447             146  \n",
       "17              139  \n",
       "420              78  "
      ]
     },
     "execution_count": 6,
     "metadata": {},
     "output_type": "execute_result"
    }
   ],
   "source": [
    "#Drop independent categorical column \n",
    "loadDF.columns = loadDF.columns.str.strip()\n",
    "dataDropDF=loadDF.drop([\"btch_id\",\"appl_nm\",\"obj_nm\",\"jb_cmpltn_ts\",\"ld_ts\",\"crtd_by_nm\",\"jb_strt_ts\",\"fl_nm\",\"sys_btch_nr\"],axis=1)\n",
    "dataDropDF.sample(5)"
   ]
  },
  {
   "cell_type": "code",
   "execution_count": 7,
   "metadata": {},
   "outputs": [
    {
     "data": {
      "text/html": [
       "<div>\n",
       "<style scoped>\n",
       "    .dataframe tbody tr th:only-of-type {\n",
       "        vertical-align: middle;\n",
       "    }\n",
       "\n",
       "    .dataframe tbody tr th {\n",
       "        vertical-align: top;\n",
       "    }\n",
       "\n",
       "    .dataframe thead th {\n",
       "        text-align: right;\n",
       "    }\n",
       "</style>\n",
       "<table border=\"1\" class=\"dataframe\">\n",
       "  <thead>\n",
       "    <tr style=\"text-align: right;\">\n",
       "      <th></th>\n",
       "      <th>src_rec_qty</th>\n",
       "      <th>tgt_rec_qty</th>\n",
       "      <th>err_rec_qty</th>\n",
       "      <th>jb_durtn_tm_ss</th>\n",
       "    </tr>\n",
       "  </thead>\n",
       "  <tbody>\n",
       "    <tr>\n",
       "      <th>count</th>\n",
       "      <td>929.000000</td>\n",
       "      <td>929.000000</td>\n",
       "      <td>929.000000</td>\n",
       "      <td>929.000000</td>\n",
       "    </tr>\n",
       "    <tr>\n",
       "      <th>mean</th>\n",
       "      <td>3646.767492</td>\n",
       "      <td>4018.480086</td>\n",
       "      <td>0.200215</td>\n",
       "      <td>127.483315</td>\n",
       "    </tr>\n",
       "    <tr>\n",
       "      <th>std</th>\n",
       "      <td>22258.715765</td>\n",
       "      <td>31303.889342</td>\n",
       "      <td>2.095449</td>\n",
       "      <td>63.993147</td>\n",
       "    </tr>\n",
       "    <tr>\n",
       "      <th>min</th>\n",
       "      <td>82.000000</td>\n",
       "      <td>0.000000</td>\n",
       "      <td>0.000000</td>\n",
       "      <td>1.000000</td>\n",
       "    </tr>\n",
       "    <tr>\n",
       "      <th>25%</th>\n",
       "      <td>99.000000</td>\n",
       "      <td>0.000000</td>\n",
       "      <td>0.000000</td>\n",
       "      <td>77.000000</td>\n",
       "    </tr>\n",
       "    <tr>\n",
       "      <th>50%</th>\n",
       "      <td>191.000000</td>\n",
       "      <td>0.000000</td>\n",
       "      <td>0.000000</td>\n",
       "      <td>120.000000</td>\n",
       "    </tr>\n",
       "    <tr>\n",
       "      <th>75%</th>\n",
       "      <td>1466.000000</td>\n",
       "      <td>0.000000</td>\n",
       "      <td>0.000000</td>\n",
       "      <td>164.000000</td>\n",
       "    </tr>\n",
       "    <tr>\n",
       "      <th>max</th>\n",
       "      <td>378213.000000</td>\n",
       "      <td>378213.000000</td>\n",
       "      <td>36.000000</td>\n",
       "      <td>639.000000</td>\n",
       "    </tr>\n",
       "  </tbody>\n",
       "</table>\n",
       "</div>"
      ],
      "text/plain": [
       "         src_rec_qty    tgt_rec_qty  err_rec_qty  jb_durtn_tm_ss\n",
       "count     929.000000     929.000000   929.000000      929.000000\n",
       "mean     3646.767492    4018.480086     0.200215      127.483315\n",
       "std     22258.715765   31303.889342     2.095449       63.993147\n",
       "min        82.000000       0.000000     0.000000        1.000000\n",
       "25%        99.000000       0.000000     0.000000       77.000000\n",
       "50%       191.000000       0.000000     0.000000      120.000000\n",
       "75%      1466.000000       0.000000     0.000000      164.000000\n",
       "max    378213.000000  378213.000000    36.000000      639.000000"
      ]
     },
     "execution_count": 7,
     "metadata": {},
     "output_type": "execute_result"
    }
   ],
   "source": [
    "#Decribe Dataset  \n",
    "dataDropDF.describe()"
   ]
  },
  {
   "cell_type": "code",
   "execution_count": 8,
   "metadata": {},
   "outputs": [
    {
     "data": {
      "text/plain": [
       "dta_lyr_nm        0\n",
       "jb_stts_cd        0\n",
       "src_rec_qty       0\n",
       "tgt_rec_qty       0\n",
       "err_rec_qty       0\n",
       "jb_durtn_tm_ss    0\n",
       "dtype: int64"
      ]
     },
     "execution_count": 8,
     "metadata": {},
     "output_type": "execute_result"
    }
   ],
   "source": [
    "#Check null column \n",
    "dataDropDF.isnull().sum()"
   ]
  },
  {
   "cell_type": "code",
   "execution_count": 9,
   "metadata": {},
   "outputs": [
    {
     "data": {
      "text/plain": [
       "<AxesSubplot:>"
      ]
     },
     "execution_count": 9,
     "metadata": {},
     "output_type": "execute_result"
    },
    {
     "data": {
      "image/png": "[encoded data removed]",
      "text/plain": [
       "<Figure size 432x288 with 1 Axes>"
      ]
     },
     "metadata": {
      "needs_background": "light"
     },
     "output_type": "display_data"
    }
   ],
   "source": [
    "#outliers checking \n",
    "dataDropDF.boxplot()"
   ]
  },
  {
   "cell_type": "code",
   "execution_count": 10,
   "metadata": {},
   "outputs": [
    {
     "name": "stderr",
     "output_type": "stream",
     "text": [
      "c:\\users\\amhotta\\appdata\\local\\programs\\python\\python38-32\\lib\\site-packages\\pandas\\plotting\\_matplotlib\\tools.py:298: MatplotlibDeprecationWarning: \n",
      "The rowNum attribute was deprecated in Matplotlib 3.2 and will be removed two minor releases later. Use ax.get_subplotspec().rowspan.start instead.\n",
      "  layout[ax.rowNum, ax.colNum] = ax.get_visible()\n",
      "c:\\users\\amhotta\\appdata\\local\\programs\\python\\python38-32\\lib\\site-packages\\pandas\\plotting\\_matplotlib\\tools.py:298: MatplotlibDeprecationWarning: \n",
      "The colNum attribute was deprecated in Matplotlib 3.2 and will be removed two minor releases later. Use ax.get_subplotspec().colspan.start instead.\n",
      "  layout[ax.rowNum, ax.colNum] = ax.get_visible()\n",
      "c:\\users\\amhotta\\appdata\\local\\programs\\python\\python38-32\\lib\\site-packages\\pandas\\plotting\\_matplotlib\\tools.py:304: MatplotlibDeprecationWarning: \n",
      "The rowNum attribute was deprecated in Matplotlib 3.2 and will be removed two minor releases later. Use ax.get_subplotspec().rowspan.start instead.\n",
      "  if not layout[ax.rowNum + 1, ax.colNum]:\n",
      "c:\\users\\amhotta\\appdata\\local\\programs\\python\\python38-32\\lib\\site-packages\\pandas\\plotting\\_matplotlib\\tools.py:304: MatplotlibDeprecationWarning: \n",
      "The colNum attribute was deprecated in Matplotlib 3.2 and will be removed two minor releases later. Use ax.get_subplotspec().colspan.start instead.\n",
      "  if not layout[ax.rowNum + 1, ax.colNum]:\n"
     ]
    },
    {
     "data": {
      "text/plain": [
       "array([[<AxesSubplot:title={'center':'err_rec_qty'}>,\n",
       "        <AxesSubplot:title={'center':'jb_durtn_tm_ss'}>],\n",
       "       [<AxesSubplot:title={'center':'src_rec_qty'}>,\n",
       "        <AxesSubplot:title={'center':'tgt_rec_qty'}>]], dtype=object)"
      ]
     },
     "execution_count": 10,
     "metadata": {},
     "output_type": "execute_result"
    },
    {
     "data": {
      "image/png": "[encoded data removed]",
      "text/plain": [
       "<Figure size 432x288 with 4 Axes>"
      ]
     },
     "metadata": {
      "needs_background": "light"
     },
     "output_type": "display_data"
    }
   ],
   "source": [
    "#histogram of whole data\n",
    "dataDropDF.hist()"
   ]
  },
  {
   "cell_type": "code",
   "execution_count": 11,
   "metadata": {},
   "outputs": [
    {
     "data": {
      "text/plain": [
       "(644, 6)"
      ]
     },
     "execution_count": 11,
     "metadata": {},
     "output_type": "execute_result"
    }
   ],
   "source": [
    "#IQR to remove outliers\n",
    "dataDropDF=dataDropDF[(dataDropDF[\"jb_stts_cd\"].str.strip() == \"success\")]\n",
    "Q1 = dataDropDF.quantile(0.25)\n",
    "Q3 = dataDropDF.quantile(0.75)\n",
    "IQR = Q3 - Q1\n",
    "\n",
    "dataDropDF = dataDropDF[~((dataDropDF < (Q1 - 1.5 * IQR)) |(dataDropDF > (Q3 + 1.5 * IQR))).any(axis=1)]\n",
    "dataDropDF.shape"
   ]
  },
  {
   "cell_type": "code",
   "execution_count": 12,
   "metadata": {},
   "outputs": [
    {
     "data": {
      "text/plain": [
       "<AxesSubplot:>"
      ]
     },
     "execution_count": 12,
     "metadata": {},
     "output_type": "execute_result"
    },
    {
     "data": {
      "image/png": "[encoded data removed]",
      "text/plain": [
       "<Figure size 432x288 with 1 Axes>"
      ]
     },
     "metadata": {
      "needs_background": "light"
     },
     "output_type": "display_data"
    }
   ],
   "source": [
    "#after remove outliers \n",
    "dataDropDF.boxplot()"
   ]
  },
  {
   "cell_type": "code",
   "execution_count": 13,
   "metadata": {},
   "outputs": [
    {
     "data": {
      "text/html": [
       "<div>\n",
       "<style scoped>\n",
       "    .dataframe tbody tr th:only-of-type {\n",
       "        vertical-align: middle;\n",
       "    }\n",
       "\n",
       "    .dataframe tbody tr th {\n",
       "        vertical-align: top;\n",
       "    }\n",
       "\n",
       "    .dataframe thead th {\n",
       "        text-align: right;\n",
       "    }\n",
       "</style>\n",
       "<table border=\"1\" class=\"dataframe\">\n",
       "  <thead>\n",
       "    <tr style=\"text-align: right;\">\n",
       "      <th></th>\n",
       "      <th>dta_lyr_nm</th>\n",
       "      <th>jb_stts_cd</th>\n",
       "      <th>src_rec_qty</th>\n",
       "      <th>tgt_rec_qty</th>\n",
       "      <th>err_rec_qty</th>\n",
       "      <th>jb_durtn_tm_ss</th>\n",
       "    </tr>\n",
       "  </thead>\n",
       "  <tbody>\n",
       "    <tr>\n",
       "      <th>0</th>\n",
       "      <td>hist_ctrl</td>\n",
       "      <td>success</td>\n",
       "      <td>82</td>\n",
       "      <td>0</td>\n",
       "      <td>0</td>\n",
       "      <td>85</td>\n",
       "    </tr>\n",
       "    <tr>\n",
       "      <th>2</th>\n",
       "      <td>hist_ctrl</td>\n",
       "      <td>success</td>\n",
       "      <td>82</td>\n",
       "      <td>0</td>\n",
       "      <td>0</td>\n",
       "      <td>64</td>\n",
       "    </tr>\n",
       "    <tr>\n",
       "      <th>3</th>\n",
       "      <td>hist_rw</td>\n",
       "      <td>success</td>\n",
       "      <td>82</td>\n",
       "      <td>0</td>\n",
       "      <td>0</td>\n",
       "      <td>136</td>\n",
       "    </tr>\n",
       "    <tr>\n",
       "      <th>4</th>\n",
       "      <td>hist_ctrl</td>\n",
       "      <td>success</td>\n",
       "      <td>82</td>\n",
       "      <td>0</td>\n",
       "      <td>0</td>\n",
       "      <td>149</td>\n",
       "    </tr>\n",
       "    <tr>\n",
       "      <th>5</th>\n",
       "      <td>hist_rw</td>\n",
       "      <td>success</td>\n",
       "      <td>82</td>\n",
       "      <td>0</td>\n",
       "      <td>0</td>\n",
       "      <td>213</td>\n",
       "    </tr>\n",
       "  </tbody>\n",
       "</table>\n",
       "</div>"
      ],
      "text/plain": [
       "       dta_lyr_nm    jb_stts_cd  src_rec_qty  tgt_rec_qty  err_rec_qty  \\\n",
       "0   hist_ctrl       success               82            0            0   \n",
       "2   hist_ctrl       success               82            0            0   \n",
       "3   hist_rw         success               82            0            0   \n",
       "4   hist_ctrl       success               82            0            0   \n",
       "5   hist_rw         success               82            0            0   \n",
       "\n",
       "   jb_durtn_tm_ss  \n",
       "0              85  \n",
       "2              64  \n",
       "3             136  \n",
       "4             149  \n",
       "5             213  "
      ]
     },
     "execution_count": 13,
     "metadata": {},
     "output_type": "execute_result"
    }
   ],
   "source": [
    "#after remove outliers \n",
    "dataDropDF.head(5)"
   ]
  },
  {
   "cell_type": "code",
   "execution_count": 14,
   "metadata": {
    "scrolled": true
   },
   "outputs": [
    {
     "data": {
      "text/html": [
       "<div>\n",
       "<style scoped>\n",
       "    .dataframe tbody tr th:only-of-type {\n",
       "        vertical-align: middle;\n",
       "    }\n",
       "\n",
       "    .dataframe tbody tr th {\n",
       "        vertical-align: top;\n",
       "    }\n",
       "\n",
       "    .dataframe thead th {\n",
       "        text-align: right;\n",
       "    }\n",
       "</style>\n",
       "<table border=\"1\" class=\"dataframe\">\n",
       "  <thead>\n",
       "    <tr style=\"text-align: right;\">\n",
       "      <th></th>\n",
       "      <th>hist_ctrl</th>\n",
       "      <th>hist_rw</th>\n",
       "    </tr>\n",
       "  </thead>\n",
       "  <tbody>\n",
       "    <tr>\n",
       "      <th>0</th>\n",
       "      <td>1</td>\n",
       "      <td>0</td>\n",
       "    </tr>\n",
       "    <tr>\n",
       "      <th>2</th>\n",
       "      <td>1</td>\n",
       "      <td>0</td>\n",
       "    </tr>\n",
       "    <tr>\n",
       "      <th>3</th>\n",
       "      <td>0</td>\n",
       "      <td>1</td>\n",
       "    </tr>\n",
       "    <tr>\n",
       "      <th>4</th>\n",
       "      <td>1</td>\n",
       "      <td>0</td>\n",
       "    </tr>\n",
       "    <tr>\n",
       "      <th>5</th>\n",
       "      <td>0</td>\n",
       "      <td>1</td>\n",
       "    </tr>\n",
       "  </tbody>\n",
       "</table>\n",
       "</div>"
      ],
      "text/plain": [
       "    hist_ctrl       hist_rw      \n",
       "0               1               0\n",
       "2               1               0\n",
       "3               0               1\n",
       "4               1               0\n",
       "5               0               1"
      ]
     },
     "execution_count": 14,
     "metadata": {},
     "output_type": "execute_result"
    }
   ],
   "source": [
    "#one hot encoding \n",
    "one_hot_enc = pd.get_dummies(dataDropDF['dta_lyr_nm'])\n",
    "one_hot_enc.head(5)"
   ]
  },
  {
   "cell_type": "code",
   "execution_count": 16,
   "metadata": {},
   "outputs": [
    {
     "data": {
      "text/html": [
       "<div>\n",
       "<style scoped>\n",
       "    .dataframe tbody tr th:only-of-type {\n",
       "        vertical-align: middle;\n",
       "    }\n",
       "\n",
       "    .dataframe tbody tr th {\n",
       "        vertical-align: top;\n",
       "    }\n",
       "\n",
       "    .dataframe thead th {\n",
       "        text-align: right;\n",
       "    }\n",
       "</style>\n",
       "<table border=\"1\" class=\"dataframe\">\n",
       "  <thead>\n",
       "    <tr style=\"text-align: right;\">\n",
       "      <th></th>\n",
       "      <th>src_rec_qty</th>\n",
       "      <th>jb_durtn_tm_ss</th>\n",
       "      <th>hist_ctrl</th>\n",
       "      <th>hist_rw</th>\n",
       "    </tr>\n",
       "  </thead>\n",
       "  <tbody>\n",
       "    <tr>\n",
       "      <th>0</th>\n",
       "      <td>82</td>\n",
       "      <td>85</td>\n",
       "      <td>1</td>\n",
       "      <td>0</td>\n",
       "    </tr>\n",
       "    <tr>\n",
       "      <th>2</th>\n",
       "      <td>82</td>\n",
       "      <td>64</td>\n",
       "      <td>1</td>\n",
       "      <td>0</td>\n",
       "    </tr>\n",
       "    <tr>\n",
       "      <th>3</th>\n",
       "      <td>82</td>\n",
       "      <td>136</td>\n",
       "      <td>0</td>\n",
       "      <td>1</td>\n",
       "    </tr>\n",
       "    <tr>\n",
       "      <th>4</th>\n",
       "      <td>82</td>\n",
       "      <td>149</td>\n",
       "      <td>1</td>\n",
       "      <td>0</td>\n",
       "    </tr>\n",
       "    <tr>\n",
       "      <th>5</th>\n",
       "      <td>82</td>\n",
       "      <td>213</td>\n",
       "      <td>0</td>\n",
       "      <td>1</td>\n",
       "    </tr>\n",
       "  </tbody>\n",
       "</table>\n",
       "</div>"
      ],
      "text/plain": [
       "   src_rec_qty  jb_durtn_tm_ss   hist_ctrl       hist_rw      \n",
       "0           82              85               1               0\n",
       "2           82              64               1               0\n",
       "3           82             136               0               1\n",
       "4           82             149               1               0\n",
       "5           82             213               0               1"
      ]
     },
     "execution_count": 16,
     "metadata": {},
     "output_type": "execute_result"
    }
   ],
   "source": [
    "#Join df and one hot encoding \n",
    "joinDF = dataDropDF.join(one_hot_enc).drop(['dta_lyr_nm','jb_stts_cd','tgt_rec_qty','err_rec_qty'],axis=1)\n",
    "joinDF.head(5)"
   ]
  },
  {
   "cell_type": "code",
   "execution_count": 17,
   "metadata": {},
   "outputs": [],
   "source": [
    "from sklearn.model_selection import train_test_split\n",
    "joinDF=joinDF.reindex(columns=joinDF.columns)\n",
    "joinDF.columns = joinDF.columns.str.strip()\n",
    "X=joinDF[['src_rec_qty','hist_ctrl','hist_rw']]\n",
    "X\n",
    "y=joinDF.jb_durtn_tm_ss\n",
    "X_train, X_test, y_train, y_test = train_test_split(X, y, test_size = 0.3, random_state = 0)"
   ]
  },
  {
   "cell_type": "code",
   "execution_count": 49,
   "metadata": {},
   "outputs": [],
   "source": [
    "from sklearn.ensemble import RandomForestRegressor \n",
    " # create regressor object \n",
    "regressor = RandomForestRegressor(n_estimators = 50, random_state = 0) \n",
    "# fit the regressor with x and y data \n",
    "regressor.fit(X_train, y_train)\n",
    "y_pred = regressor.predict(X_test)"
   ]
  },
  {
   "cell_type": "code",
   "execution_count": 42,
   "metadata": {},
   "outputs": [
    {
     "data": {
      "text/plain": [
       "0.789957057390952"
      ]
     },
     "execution_count": 42,
     "metadata": {},
     "output_type": "execute_result"
    }
   ],
   "source": [
    "regressor.score(X_test,y_test)"
   ]
  },
  {
   "cell_type": "code",
   "execution_count": 50,
   "metadata": {},
   "outputs": [
    {
     "data": {
      "text/html": [
       "<div>\n",
       "<style scoped>\n",
       "    .dataframe tbody tr th:only-of-type {\n",
       "        vertical-align: middle;\n",
       "    }\n",
       "\n",
       "    .dataframe tbody tr th {\n",
       "        vertical-align: top;\n",
       "    }\n",
       "\n",
       "    .dataframe thead th {\n",
       "        text-align: right;\n",
       "    }\n",
       "</style>\n",
       "<table border=\"1\" class=\"dataframe\">\n",
       "  <thead>\n",
       "    <tr style=\"text-align: right;\">\n",
       "      <th></th>\n",
       "      <th>src_rec_qty</th>\n",
       "      <th>hist_ctrl</th>\n",
       "      <th>hist_rw</th>\n",
       "    </tr>\n",
       "  </thead>\n",
       "  <tbody>\n",
       "    <tr>\n",
       "      <th>0</th>\n",
       "      <td>50000</td>\n",
       "      <td>1</td>\n",
       "      <td>0</td>\n",
       "    </tr>\n",
       "    <tr>\n",
       "      <th>1</th>\n",
       "      <td>500000</td>\n",
       "      <td>0</td>\n",
       "      <td>1</td>\n",
       "    </tr>\n",
       "  </tbody>\n",
       "</table>\n",
       "</div>"
      ],
      "text/plain": [
       "   src_rec_qty  hist_ctrl  hist_rw\n",
       "0        50000          1        0\n",
       "1       500000          0        1"
      ]
     },
     "execution_count": 50,
     "metadata": {},
     "output_type": "execute_result"
    }
   ],
   "source": [
    "d = {'src_rec_qty': [50000,500000], 'hist_ctrl': [1,0], 'hist_rw': [0,1]}\n",
    "e = {'jb_durtn_tm_ss':[217,  104]}\n",
    "df = pd.DataFrame(data=d)\n",
    "df1=pd.DataFrame(data=e)\n",
    "df"
   ]
  },
  {
   "cell_type": "code",
   "execution_count": 51,
   "metadata": {},
   "outputs": [
    {
     "data": {
      "text/plain": [
       "array([105.52833333, 219.87927098])"
      ]
     },
     "execution_count": 51,
     "metadata": {},
     "output_type": "execute_result"
    }
   ],
   "source": [
    "#Predict Run time\n",
    "y_pred_test = regressor.predict(df)\n",
    "y_pred_test"
   ]
  },
  {
   "cell_type": "code",
   "execution_count": 25,
   "metadata": {},
   "outputs": [
    {
     "data": {
      "text/plain": [
       "0.99991600010312"
      ]
     },
     "execution_count": 25,
     "metadata": {},
     "output_type": "execute_result"
    }
   ],
   "source": [
    "regressor.score(df,df1)"
   ]
  },
  {
   "cell_type": "code",
   "execution_count": null,
   "metadata": {},
   "outputs": [],
   "source": []
  }
 ],
 "metadata": {
  "kernelspec": {
   "display_name": "Python 3",
   "language": "python",
   "name": "python3"
  },
  "language_info": {
   "codemirror_mode": {
    "name": "ipython",
    "version": 3
   },
   "file_extension": ".py",
   "mimetype": "text/x-python",
   "name": "python",
   "nbconvert_exporter": "python",
   "pygments_lexer": "ipython3",
   "version": "3.8.1"
  }
 },
 "nbformat": 4,
 "nbformat_minor": 2
}
